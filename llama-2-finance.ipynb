{
 "cells": [
  {
   "cell_type": "markdown",
   "id": "2f78bf98-a0d9-4b7c-976c-1b8f7e0e6e88",
   "metadata": {},
   "source": [
    "## 1: Create model response function\n",
    "The create_model_response function is designed to generate a textual response from a given inference model based on a user's query. It formats the query into a template that the model understands, encodes this input, and then decodes the model's output into a human-readable response.\n",
    "\n",
    "### Parameters\n",
    "- `task_query (str)`: The user's query or task description that needs to be responded to.\n",
    "- `inference_model`: The machine learning model that generates the response. This should be pre-loaded and ready for inference.\n",
    "- `sequence_tokenizer`: A tokenizer that corresponds to the `inference_model`, used for both encoding the input and decoding the output.\n",
    "\n",
    "### Returns\n",
    "`str`: A string representing the model's response to the `task_query`."
   ]
  },
  {
   "cell_type": "code",
   "execution_count": 1,
   "id": "436d5005-d6a7-4f26-b588-aa34d4d5c7fb",
   "metadata": {},
   "outputs": [],
   "source": [
    "def create_model_response(task_query: str, inference_model, sequence_tokenizer) -> str:\n",
    "    processing_device = \"cuda:0\"\n",
    "\n",
    "    prompt_template = \"\"\"\n",
    "    Here is a task that requires an informative response. Please complete the task based on the provided instruction.\n",
    "\n",
    "    ### Instruction:\n",
    "    {user_task_query}\n",
    "\n",
    "    ### Completion:\n",
    "    \"\"\"\n",
    "    \n",
    "    # Using the template with the user's query\n",
    "    task_prompt = prompt_template.format(user_task_query=task_query)\n",
    "\n",
    "    # Encoding the prompt for the model\n",
    "    encoded_input = sequence_tokenizer(task_prompt, return_tensors=\"pt\", add_special_tokens=True)\n",
    "\n",
    "    # Sending the encoded input to the designated processing device\n",
    "    model_input_tensor = encoded_input.to(processing_device)\n",
    "\n",
    "    # Generating tokens from the model based on the input\n",
    "    generated_token_ids = inference_model.generate(\n",
    "        **model_input_tensor, \n",
    "        max_new_tokens=1000, \n",
    "        do_sample=True, \n",
    "        pad_token_id=sequence_tokenizer.eos_token_id\n",
    "    )\n",
    "\n",
    "    # Decoding the generated tokens to form the response\n",
    "    generated_response = sequence_tokenizer.batch_decode(generated_token_ids, skip_special_tokens=True)\n",
    "    \n",
    "    return generated_response[0]\n"
   ]
  },
  {
   "cell_type": "markdown",
   "id": "a207c99e-6405-449c-9fcf-2973e646a8d7",
   "metadata": {},
   "source": [
    "## 2: Install Packages\n",
    "This script is a sequence of commands to install and update various Python packages, primarily focused on machine learning and data handling, using pip, the Python package installer. "
   ]
  },
  {
   "cell_type": "code",
   "execution_count": 2,
   "id": "ed9c02a5-245f-412b-92ff-755c6f2e2522",
   "metadata": {},
   "outputs": [
    {
     "name": "stdout",
     "output_type": "stream",
     "text": [
      "Requirement already satisfied: pip in /opt/app-root/lib/python3.9/site-packages (23.3.1)\n",
      "Requirement already satisfied: bitsandbytes in /opt/app-root/lib/python3.9/site-packages (0.41.2.post2)\n",
      "Collecting git+https://github.com/huggingface/transformers.git\n",
      "  Cloning https://github.com/huggingface/transformers.git to /tmp/pip-req-build-6_ruube8\n",
      "  Running command git clone --filter=blob:none --quiet https://github.com/huggingface/transformers.git /tmp/pip-req-build-6_ruube8\n",
      "  Resolved https://github.com/huggingface/transformers.git to commit 083e36923a19650fa264c4173db2f63ab124bb27\n",
      "  Installing build dependencies ... \u001b[?25ldone\n",
      "\u001b[?25h  Getting requirements to build wheel ... \u001b[?25ldone\n",
      "\u001b[?25h  Preparing metadata (pyproject.toml) ... \u001b[?25ldone\n",
      "\u001b[?25hRequirement already satisfied: filelock in /opt/app-root/lib/python3.9/site-packages (from transformers==4.36.0.dev0) (3.13.1)\n",
      "Requirement already satisfied: huggingface-hub<1.0,>=0.19.3 in /opt/app-root/lib/python3.9/site-packages (from transformers==4.36.0.dev0) (0.19.4)\n",
      "Requirement already satisfied: numpy>=1.17 in /opt/app-root/lib/python3.9/site-packages (from transformers==4.36.0.dev0) (1.26.2)\n",
      "Requirement already satisfied: packaging>=20.0 in /opt/app-root/lib/python3.9/site-packages (from transformers==4.36.0.dev0) (23.1)\n",
      "Requirement already satisfied: pyyaml>=5.1 in /opt/app-root/lib/python3.9/site-packages (from transformers==4.36.0.dev0) (6.0.1)\n",
      "Requirement already satisfied: regex!=2019.12.17 in /opt/app-root/lib/python3.9/site-packages (from transformers==4.36.0.dev0) (2023.10.3)\n",
      "Requirement already satisfied: requests in /opt/app-root/lib/python3.9/site-packages (from transformers==4.36.0.dev0) (2.31.0)\n",
      "Requirement already satisfied: tokenizers<0.19,>=0.14 in /opt/app-root/lib/python3.9/site-packages (from transformers==4.36.0.dev0) (0.15.0)\n",
      "Requirement already satisfied: safetensors>=0.3.1 in /opt/app-root/lib/python3.9/site-packages (from transformers==4.36.0.dev0) (0.4.0)\n",
      "Requirement already satisfied: tqdm>=4.27 in /opt/app-root/lib/python3.9/site-packages (from transformers==4.36.0.dev0) (4.66.1)\n",
      "Requirement already satisfied: fsspec>=2023.5.0 in /opt/app-root/lib/python3.9/site-packages (from huggingface-hub<1.0,>=0.19.3->transformers==4.36.0.dev0) (2023.10.0)\n",
      "Requirement already satisfied: typing-extensions>=3.7.4.3 in /opt/app-root/lib/python3.9/site-packages (from huggingface-hub<1.0,>=0.19.3->transformers==4.36.0.dev0) (4.7.1)\n",
      "Requirement already satisfied: charset-normalizer<4,>=2 in /opt/app-root/lib/python3.9/site-packages (from requests->transformers==4.36.0.dev0) (3.2.0)\n",
      "Requirement already satisfied: idna<4,>=2.5 in /opt/app-root/lib/python3.9/site-packages (from requests->transformers==4.36.0.dev0) (3.4)\n",
      "Requirement already satisfied: urllib3<3,>=1.21.1 in /opt/app-root/lib/python3.9/site-packages (from requests->transformers==4.36.0.dev0) (2.0.4)\n",
      "Requirement already satisfied: certifi>=2017.4.17 in /opt/app-root/lib/python3.9/site-packages (from requests->transformers==4.36.0.dev0) (2023.7.22)\n",
      "Collecting git+https://github.com/huggingface/peft.git\n",
      "  Cloning https://github.com/huggingface/peft.git to /tmp/pip-req-build-4zhz2aor\n",
      "  Running command git clone --filter=blob:none --quiet https://github.com/huggingface/peft.git /tmp/pip-req-build-4zhz2aor\n",
      "  Resolved https://github.com/huggingface/peft.git to commit 2b901ee57230559aaf39867c7698f6aca3617162\n",
      "  Installing build dependencies ... \u001b[?25ldone\n",
      "\u001b[?25h  Getting requirements to build wheel ... \u001b[?25ldone\n",
      "\u001b[?25h  Preparing metadata (pyproject.toml) ... \u001b[?25ldone\n",
      "\u001b[?25hRequirement already satisfied: numpy>=1.17 in /opt/app-root/lib/python3.9/site-packages (from peft==0.6.3.dev0) (1.26.2)\n",
      "Requirement already satisfied: packaging>=20.0 in /opt/app-root/lib/python3.9/site-packages (from peft==0.6.3.dev0) (23.1)\n",
      "Requirement already satisfied: psutil in /opt/app-root/lib/python3.9/site-packages (from peft==0.6.3.dev0) (5.9.5)\n",
      "Requirement already satisfied: pyyaml in /opt/app-root/lib/python3.9/site-packages (from peft==0.6.3.dev0) (6.0.1)\n",
      "Requirement already satisfied: torch>=1.13.0 in /opt/app-root/lib/python3.9/site-packages (from peft==0.6.3.dev0) (2.1.1)\n",
      "Requirement already satisfied: transformers in /opt/app-root/lib/python3.9/site-packages (from peft==0.6.3.dev0) (4.36.0.dev0)\n",
      "Requirement already satisfied: tqdm in /opt/app-root/lib/python3.9/site-packages (from peft==0.6.3.dev0) (4.66.1)\n",
      "Requirement already satisfied: accelerate>=0.21.0 in /opt/app-root/lib/python3.9/site-packages (from peft==0.6.3.dev0) (0.25.0.dev0)\n",
      "Requirement already satisfied: safetensors in /opt/app-root/lib/python3.9/site-packages (from peft==0.6.3.dev0) (0.4.0)\n",
      "Requirement already satisfied: huggingface-hub>=0.17.0 in /opt/app-root/lib/python3.9/site-packages (from peft==0.6.3.dev0) (0.19.4)\n",
      "Requirement already satisfied: filelock in /opt/app-root/lib/python3.9/site-packages (from huggingface-hub>=0.17.0->peft==0.6.3.dev0) (3.13.1)\n",
      "Requirement already satisfied: fsspec>=2023.5.0 in /opt/app-root/lib/python3.9/site-packages (from huggingface-hub>=0.17.0->peft==0.6.3.dev0) (2023.10.0)\n",
      "Requirement already satisfied: requests in /opt/app-root/lib/python3.9/site-packages (from huggingface-hub>=0.17.0->peft==0.6.3.dev0) (2.31.0)\n",
      "Requirement already satisfied: typing-extensions>=3.7.4.3 in /opt/app-root/lib/python3.9/site-packages (from huggingface-hub>=0.17.0->peft==0.6.3.dev0) (4.7.1)\n",
      "Requirement already satisfied: sympy in /opt/app-root/lib/python3.9/site-packages (from torch>=1.13.0->peft==0.6.3.dev0) (1.12)\n",
      "Requirement already satisfied: networkx in /opt/app-root/lib/python3.9/site-packages (from torch>=1.13.0->peft==0.6.3.dev0) (3.2.1)\n",
      "Requirement already satisfied: jinja2 in /opt/app-root/lib/python3.9/site-packages (from torch>=1.13.0->peft==0.6.3.dev0) (3.1.2)\n",
      "Requirement already satisfied: nvidia-cuda-nvrtc-cu12==12.1.105 in /opt/app-root/lib/python3.9/site-packages (from torch>=1.13.0->peft==0.6.3.dev0) (12.1.105)\n",
      "Requirement already satisfied: nvidia-cuda-runtime-cu12==12.1.105 in /opt/app-root/lib/python3.9/site-packages (from torch>=1.13.0->peft==0.6.3.dev0) (12.1.105)\n",
      "Requirement already satisfied: nvidia-cuda-cupti-cu12==12.1.105 in /opt/app-root/lib/python3.9/site-packages (from torch>=1.13.0->peft==0.6.3.dev0) (12.1.105)\n",
      "Requirement already satisfied: nvidia-cudnn-cu12==8.9.2.26 in /opt/app-root/lib/python3.9/site-packages (from torch>=1.13.0->peft==0.6.3.dev0) (8.9.2.26)\n",
      "Requirement already satisfied: nvidia-cublas-cu12==12.1.3.1 in /opt/app-root/lib/python3.9/site-packages (from torch>=1.13.0->peft==0.6.3.dev0) (12.1.3.1)\n",
      "Requirement already satisfied: nvidia-cufft-cu12==11.0.2.54 in /opt/app-root/lib/python3.9/site-packages (from torch>=1.13.0->peft==0.6.3.dev0) (11.0.2.54)\n",
      "Requirement already satisfied: nvidia-curand-cu12==10.3.2.106 in /opt/app-root/lib/python3.9/site-packages (from torch>=1.13.0->peft==0.6.3.dev0) (10.3.2.106)\n",
      "Requirement already satisfied: nvidia-cusolver-cu12==11.4.5.107 in /opt/app-root/lib/python3.9/site-packages (from torch>=1.13.0->peft==0.6.3.dev0) (11.4.5.107)\n",
      "Requirement already satisfied: nvidia-cusparse-cu12==12.1.0.106 in /opt/app-root/lib/python3.9/site-packages (from torch>=1.13.0->peft==0.6.3.dev0) (12.1.0.106)\n",
      "Requirement already satisfied: nvidia-nccl-cu12==2.18.1 in /opt/app-root/lib/python3.9/site-packages (from torch>=1.13.0->peft==0.6.3.dev0) (2.18.1)\n",
      "Requirement already satisfied: nvidia-nvtx-cu12==12.1.105 in /opt/app-root/lib/python3.9/site-packages (from torch>=1.13.0->peft==0.6.3.dev0) (12.1.105)\n",
      "Requirement already satisfied: triton==2.1.0 in /opt/app-root/lib/python3.9/site-packages (from torch>=1.13.0->peft==0.6.3.dev0) (2.1.0)\n",
      "Requirement already satisfied: nvidia-nvjitlink-cu12 in /opt/app-root/lib/python3.9/site-packages (from nvidia-cusolver-cu12==11.4.5.107->torch>=1.13.0->peft==0.6.3.dev0) (12.3.101)\n",
      "Requirement already satisfied: regex!=2019.12.17 in /opt/app-root/lib/python3.9/site-packages (from transformers->peft==0.6.3.dev0) (2023.10.3)\n",
      "Requirement already satisfied: tokenizers<0.19,>=0.14 in /opt/app-root/lib/python3.9/site-packages (from transformers->peft==0.6.3.dev0) (0.15.0)\n",
      "Requirement already satisfied: MarkupSafe>=2.0 in /opt/app-root/lib/python3.9/site-packages (from jinja2->torch>=1.13.0->peft==0.6.3.dev0) (2.1.3)\n",
      "Requirement already satisfied: charset-normalizer<4,>=2 in /opt/app-root/lib/python3.9/site-packages (from requests->huggingface-hub>=0.17.0->peft==0.6.3.dev0) (3.2.0)\n",
      "Requirement already satisfied: idna<4,>=2.5 in /opt/app-root/lib/python3.9/site-packages (from requests->huggingface-hub>=0.17.0->peft==0.6.3.dev0) (3.4)\n",
      "Requirement already satisfied: urllib3<3,>=1.21.1 in /opt/app-root/lib/python3.9/site-packages (from requests->huggingface-hub>=0.17.0->peft==0.6.3.dev0) (2.0.4)\n",
      "Requirement already satisfied: certifi>=2017.4.17 in /opt/app-root/lib/python3.9/site-packages (from requests->huggingface-hub>=0.17.0->peft==0.6.3.dev0) (2023.7.22)\n",
      "Requirement already satisfied: mpmath>=0.19 in /opt/app-root/lib/python3.9/site-packages (from sympy->torch>=1.13.0->peft==0.6.3.dev0) (1.3.0)\n",
      "Collecting git+https://github.com/huggingface/accelerate.git\n",
      "  Cloning https://github.com/huggingface/accelerate.git to /tmp/pip-req-build-kq7q1b0i\n",
      "  Running command git clone --filter=blob:none --quiet https://github.com/huggingface/accelerate.git /tmp/pip-req-build-kq7q1b0i\n",
      "  Resolved https://github.com/huggingface/accelerate.git to commit 68d63ee15f0faf12429d686b7eca3ee0afb1760d\n",
      "  Installing build dependencies ... \u001b[?25ldone\n",
      "\u001b[?25h  Getting requirements to build wheel ... \u001b[?25ldone\n",
      "\u001b[?25h  Preparing metadata (pyproject.toml) ... \u001b[?25ldone\n",
      "\u001b[?25hRequirement already satisfied: numpy>=1.17 in /opt/app-root/lib/python3.9/site-packages (from accelerate==0.25.0.dev0) (1.26.2)\n",
      "Requirement already satisfied: packaging>=20.0 in /opt/app-root/lib/python3.9/site-packages (from accelerate==0.25.0.dev0) (23.1)\n",
      "Requirement already satisfied: psutil in /opt/app-root/lib/python3.9/site-packages (from accelerate==0.25.0.dev0) (5.9.5)\n",
      "Requirement already satisfied: pyyaml in /opt/app-root/lib/python3.9/site-packages (from accelerate==0.25.0.dev0) (6.0.1)\n",
      "Requirement already satisfied: torch>=1.10.0 in /opt/app-root/lib/python3.9/site-packages (from accelerate==0.25.0.dev0) (2.1.1)\n",
      "Requirement already satisfied: huggingface-hub in /opt/app-root/lib/python3.9/site-packages (from accelerate==0.25.0.dev0) (0.19.4)\n",
      "Requirement already satisfied: safetensors>=0.3.1 in /opt/app-root/lib/python3.9/site-packages (from accelerate==0.25.0.dev0) (0.4.0)\n",
      "Requirement already satisfied: filelock in /opt/app-root/lib/python3.9/site-packages (from torch>=1.10.0->accelerate==0.25.0.dev0) (3.13.1)\n",
      "Requirement already satisfied: typing-extensions in /opt/app-root/lib/python3.9/site-packages (from torch>=1.10.0->accelerate==0.25.0.dev0) (4.7.1)\n",
      "Requirement already satisfied: sympy in /opt/app-root/lib/python3.9/site-packages (from torch>=1.10.0->accelerate==0.25.0.dev0) (1.12)\n",
      "Requirement already satisfied: networkx in /opt/app-root/lib/python3.9/site-packages (from torch>=1.10.0->accelerate==0.25.0.dev0) (3.2.1)\n",
      "Requirement already satisfied: jinja2 in /opt/app-root/lib/python3.9/site-packages (from torch>=1.10.0->accelerate==0.25.0.dev0) (3.1.2)\n",
      "Requirement already satisfied: fsspec in /opt/app-root/lib/python3.9/site-packages (from torch>=1.10.0->accelerate==0.25.0.dev0) (2023.10.0)\n",
      "Requirement already satisfied: nvidia-cuda-nvrtc-cu12==12.1.105 in /opt/app-root/lib/python3.9/site-packages (from torch>=1.10.0->accelerate==0.25.0.dev0) (12.1.105)\n",
      "Requirement already satisfied: nvidia-cuda-runtime-cu12==12.1.105 in /opt/app-root/lib/python3.9/site-packages (from torch>=1.10.0->accelerate==0.25.0.dev0) (12.1.105)\n",
      "Requirement already satisfied: nvidia-cuda-cupti-cu12==12.1.105 in /opt/app-root/lib/python3.9/site-packages (from torch>=1.10.0->accelerate==0.25.0.dev0) (12.1.105)\n",
      "Requirement already satisfied: nvidia-cudnn-cu12==8.9.2.26 in /opt/app-root/lib/python3.9/site-packages (from torch>=1.10.0->accelerate==0.25.0.dev0) (8.9.2.26)\n",
      "Requirement already satisfied: nvidia-cublas-cu12==12.1.3.1 in /opt/app-root/lib/python3.9/site-packages (from torch>=1.10.0->accelerate==0.25.0.dev0) (12.1.3.1)\n",
      "Requirement already satisfied: nvidia-cufft-cu12==11.0.2.54 in /opt/app-root/lib/python3.9/site-packages (from torch>=1.10.0->accelerate==0.25.0.dev0) (11.0.2.54)\n",
      "Requirement already satisfied: nvidia-curand-cu12==10.3.2.106 in /opt/app-root/lib/python3.9/site-packages (from torch>=1.10.0->accelerate==0.25.0.dev0) (10.3.2.106)\n",
      "Requirement already satisfied: nvidia-cusolver-cu12==11.4.5.107 in /opt/app-root/lib/python3.9/site-packages (from torch>=1.10.0->accelerate==0.25.0.dev0) (11.4.5.107)\n",
      "Requirement already satisfied: nvidia-cusparse-cu12==12.1.0.106 in /opt/app-root/lib/python3.9/site-packages (from torch>=1.10.0->accelerate==0.25.0.dev0) (12.1.0.106)\n",
      "Requirement already satisfied: nvidia-nccl-cu12==2.18.1 in /opt/app-root/lib/python3.9/site-packages (from torch>=1.10.0->accelerate==0.25.0.dev0) (2.18.1)\n",
      "Requirement already satisfied: nvidia-nvtx-cu12==12.1.105 in /opt/app-root/lib/python3.9/site-packages (from torch>=1.10.0->accelerate==0.25.0.dev0) (12.1.105)\n",
      "Requirement already satisfied: triton==2.1.0 in /opt/app-root/lib/python3.9/site-packages (from torch>=1.10.0->accelerate==0.25.0.dev0) (2.1.0)\n",
      "Requirement already satisfied: nvidia-nvjitlink-cu12 in /opt/app-root/lib/python3.9/site-packages (from nvidia-cusolver-cu12==11.4.5.107->torch>=1.10.0->accelerate==0.25.0.dev0) (12.3.101)\n",
      "Requirement already satisfied: requests in /opt/app-root/lib/python3.9/site-packages (from huggingface-hub->accelerate==0.25.0.dev0) (2.31.0)\n",
      "Requirement already satisfied: tqdm>=4.42.1 in /opt/app-root/lib/python3.9/site-packages (from huggingface-hub->accelerate==0.25.0.dev0) (4.66.1)\n",
      "Requirement already satisfied: MarkupSafe>=2.0 in /opt/app-root/lib/python3.9/site-packages (from jinja2->torch>=1.10.0->accelerate==0.25.0.dev0) (2.1.3)\n",
      "Requirement already satisfied: charset-normalizer<4,>=2 in /opt/app-root/lib/python3.9/site-packages (from requests->huggingface-hub->accelerate==0.25.0.dev0) (3.2.0)\n",
      "Requirement already satisfied: idna<4,>=2.5 in /opt/app-root/lib/python3.9/site-packages (from requests->huggingface-hub->accelerate==0.25.0.dev0) (3.4)\n",
      "Requirement already satisfied: urllib3<3,>=1.21.1 in /opt/app-root/lib/python3.9/site-packages (from requests->huggingface-hub->accelerate==0.25.0.dev0) (2.0.4)\n",
      "Requirement already satisfied: certifi>=2017.4.17 in /opt/app-root/lib/python3.9/site-packages (from requests->huggingface-hub->accelerate==0.25.0.dev0) (2023.7.22)\n",
      "Requirement already satisfied: mpmath>=0.19 in /opt/app-root/lib/python3.9/site-packages (from sympy->torch>=1.10.0->accelerate==0.25.0.dev0) (1.3.0)\n",
      "Requirement already satisfied: datasets in /opt/app-root/lib/python3.9/site-packages (2.15.0)\n",
      "Requirement already satisfied: numpy>=1.17 in /opt/app-root/lib/python3.9/site-packages (from datasets) (1.26.2)\n",
      "Requirement already satisfied: pyarrow>=8.0.0 in /opt/app-root/lib/python3.9/site-packages (from datasets) (14.0.1)\n",
      "Requirement already satisfied: pyarrow-hotfix in /opt/app-root/lib/python3.9/site-packages (from datasets) (0.5)\n",
      "Requirement already satisfied: dill<0.3.8,>=0.3.0 in /opt/app-root/lib/python3.9/site-packages (from datasets) (0.3.7)\n",
      "Requirement already satisfied: pandas in /opt/app-root/lib/python3.9/site-packages (from datasets) (2.1.3)\n",
      "Requirement already satisfied: requests>=2.19.0 in /opt/app-root/lib/python3.9/site-packages (from datasets) (2.31.0)\n",
      "Requirement already satisfied: tqdm>=4.62.1 in /opt/app-root/lib/python3.9/site-packages (from datasets) (4.66.1)\n",
      "Requirement already satisfied: xxhash in /opt/app-root/lib/python3.9/site-packages (from datasets) (3.4.1)\n",
      "Requirement already satisfied: multiprocess in /opt/app-root/lib/python3.9/site-packages (from datasets) (0.70.15)\n",
      "Requirement already satisfied: fsspec<=2023.10.0,>=2023.1.0 in /opt/app-root/lib/python3.9/site-packages (from fsspec[http]<=2023.10.0,>=2023.1.0->datasets) (2023.10.0)\n",
      "Requirement already satisfied: aiohttp in /opt/app-root/lib/python3.9/site-packages (from datasets) (3.8.5)\n",
      "Requirement already satisfied: huggingface-hub>=0.18.0 in /opt/app-root/lib/python3.9/site-packages (from datasets) (0.19.4)\n",
      "Requirement already satisfied: packaging in /opt/app-root/lib/python3.9/site-packages (from datasets) (23.1)\n",
      "Requirement already satisfied: pyyaml>=5.1 in /opt/app-root/lib/python3.9/site-packages (from datasets) (6.0.1)\n",
      "Requirement already satisfied: attrs>=17.3.0 in /opt/app-root/lib/python3.9/site-packages (from aiohttp->datasets) (23.1.0)\n",
      "Requirement already satisfied: charset-normalizer<4.0,>=2.0 in /opt/app-root/lib/python3.9/site-packages (from aiohttp->datasets) (3.2.0)\n",
      "Requirement already satisfied: multidict<7.0,>=4.5 in /opt/app-root/lib/python3.9/site-packages (from aiohttp->datasets) (6.0.4)\n",
      "Requirement already satisfied: async-timeout<5.0,>=4.0.0a3 in /opt/app-root/lib/python3.9/site-packages (from aiohttp->datasets) (4.0.3)\n",
      "Requirement already satisfied: yarl<2.0,>=1.0 in /opt/app-root/lib/python3.9/site-packages (from aiohttp->datasets) (1.9.2)\n",
      "Requirement already satisfied: frozenlist>=1.1.1 in /opt/app-root/lib/python3.9/site-packages (from aiohttp->datasets) (1.4.0)\n",
      "Requirement already satisfied: aiosignal>=1.1.2 in /opt/app-root/lib/python3.9/site-packages (from aiohttp->datasets) (1.3.1)\n",
      "Requirement already satisfied: filelock in /opt/app-root/lib/python3.9/site-packages (from huggingface-hub>=0.18.0->datasets) (3.13.1)\n",
      "Requirement already satisfied: typing-extensions>=3.7.4.3 in /opt/app-root/lib/python3.9/site-packages (from huggingface-hub>=0.18.0->datasets) (4.7.1)\n",
      "Requirement already satisfied: idna<4,>=2.5 in /opt/app-root/lib/python3.9/site-packages (from requests>=2.19.0->datasets) (3.4)\n",
      "Requirement already satisfied: urllib3<3,>=1.21.1 in /opt/app-root/lib/python3.9/site-packages (from requests>=2.19.0->datasets) (2.0.4)\n",
      "Requirement already satisfied: certifi>=2017.4.17 in /opt/app-root/lib/python3.9/site-packages (from requests>=2.19.0->datasets) (2023.7.22)\n",
      "Requirement already satisfied: python-dateutil>=2.8.2 in /opt/app-root/lib/python3.9/site-packages (from pandas->datasets) (2.8.2)\n",
      "Requirement already satisfied: pytz>=2020.1 in /opt/app-root/lib/python3.9/site-packages (from pandas->datasets) (2023.3.post1)\n",
      "Requirement already satisfied: tzdata>=2022.1 in /opt/app-root/lib/python3.9/site-packages (from pandas->datasets) (2023.3)\n",
      "Requirement already satisfied: six>=1.5 in /opt/app-root/lib/python3.9/site-packages (from python-dateutil>=2.8.2->pandas->datasets) (1.16.0)\n",
      "Requirement already satisfied: pandas in /opt/app-root/lib/python3.9/site-packages (2.1.3)\n",
      "Requirement already satisfied: numpy<2,>=1.22.4 in /opt/app-root/lib/python3.9/site-packages (from pandas) (1.26.2)\n",
      "Requirement already satisfied: python-dateutil>=2.8.2 in /opt/app-root/lib/python3.9/site-packages (from pandas) (2.8.2)\n",
      "Requirement already satisfied: pytz>=2020.1 in /opt/app-root/lib/python3.9/site-packages (from pandas) (2023.3.post1)\n",
      "Requirement already satisfied: tzdata>=2022.1 in /opt/app-root/lib/python3.9/site-packages (from pandas) (2023.3)\n",
      "Requirement already satisfied: six>=1.5 in /opt/app-root/lib/python3.9/site-packages (from python-dateutil>=2.8.2->pandas) (1.16.0)\n",
      "Requirement already satisfied: matplotlib in /opt/app-root/lib/python3.9/site-packages (3.8.2)\n",
      "Requirement already satisfied: contourpy>=1.0.1 in /opt/app-root/lib/python3.9/site-packages (from matplotlib) (1.2.0)\n",
      "Requirement already satisfied: cycler>=0.10 in /opt/app-root/lib/python3.9/site-packages (from matplotlib) (0.12.1)\n",
      "Requirement already satisfied: fonttools>=4.22.0 in /opt/app-root/lib/python3.9/site-packages (from matplotlib) (4.45.0)\n",
      "Requirement already satisfied: kiwisolver>=1.3.1 in /opt/app-root/lib/python3.9/site-packages (from matplotlib) (1.4.5)\n",
      "Requirement already satisfied: numpy<2,>=1.21 in /opt/app-root/lib/python3.9/site-packages (from matplotlib) (1.26.2)\n",
      "Requirement already satisfied: packaging>=20.0 in /opt/app-root/lib/python3.9/site-packages (from matplotlib) (23.1)\n",
      "Requirement already satisfied: pillow>=8 in /opt/app-root/lib/python3.9/site-packages (from matplotlib) (10.1.0)\n",
      "Requirement already satisfied: pyparsing>=2.3.1 in /opt/app-root/lib/python3.9/site-packages (from matplotlib) (3.1.1)\n",
      "Requirement already satisfied: python-dateutil>=2.7 in /opt/app-root/lib/python3.9/site-packages (from matplotlib) (2.8.2)\n",
      "Requirement already satisfied: importlib-resources>=3.2.0 in /opt/app-root/lib/python3.9/site-packages (from matplotlib) (6.1.1)\n",
      "Requirement already satisfied: zipp>=3.1.0 in /opt/app-root/lib/python3.9/site-packages (from importlib-resources>=3.2.0->matplotlib) (3.16.2)\n",
      "Requirement already satisfied: six>=1.5 in /opt/app-root/lib/python3.9/site-packages (from python-dateutil>=2.7->matplotlib) (1.16.0)\n",
      "Requirement already satisfied: scipy in /opt/app-root/lib/python3.9/site-packages (1.11.4)\n",
      "Requirement already satisfied: numpy<1.28.0,>=1.21.6 in /opt/app-root/lib/python3.9/site-packages (from scipy) (1.26.2)\n",
      "Requirement already satisfied: ipywidgets in /opt/app-root/lib/python3.9/site-packages (8.1.1)\n",
      "Requirement already satisfied: comm>=0.1.3 in /opt/app-root/lib/python3.9/site-packages (from ipywidgets) (0.1.4)\n",
      "Requirement already satisfied: ipython>=6.1.0 in /opt/app-root/lib/python3.9/site-packages (from ipywidgets) (8.14.0)\n",
      "Requirement already satisfied: traitlets>=4.3.1 in /opt/app-root/lib/python3.9/site-packages (from ipywidgets) (5.9.0)\n",
      "Requirement already satisfied: widgetsnbextension~=4.0.9 in /opt/app-root/lib/python3.9/site-packages (from ipywidgets) (4.0.9)\n",
      "Requirement already satisfied: jupyterlab-widgets~=3.0.9 in /opt/app-root/lib/python3.9/site-packages (from ipywidgets) (3.0.9)\n",
      "Requirement already satisfied: backcall in /opt/app-root/lib/python3.9/site-packages (from ipython>=6.1.0->ipywidgets) (0.2.0)\n",
      "Requirement already satisfied: decorator in /opt/app-root/lib/python3.9/site-packages (from ipython>=6.1.0->ipywidgets) (5.1.1)\n",
      "Requirement already satisfied: jedi>=0.16 in /opt/app-root/lib/python3.9/site-packages (from ipython>=6.1.0->ipywidgets) (0.19.0)\n",
      "Requirement already satisfied: matplotlib-inline in /opt/app-root/lib/python3.9/site-packages (from ipython>=6.1.0->ipywidgets) (0.1.6)\n",
      "Requirement already satisfied: pickleshare in /opt/app-root/lib/python3.9/site-packages (from ipython>=6.1.0->ipywidgets) (0.7.5)\n",
      "Requirement already satisfied: prompt-toolkit!=3.0.37,<3.1.0,>=3.0.30 in /opt/app-root/lib/python3.9/site-packages (from ipython>=6.1.0->ipywidgets) (3.0.39)\n",
      "Requirement already satisfied: pygments>=2.4.0 in /opt/app-root/lib/python3.9/site-packages (from ipython>=6.1.0->ipywidgets) (2.16.1)\n",
      "Requirement already satisfied: stack-data in /opt/app-root/lib/python3.9/site-packages (from ipython>=6.1.0->ipywidgets) (0.6.2)\n",
      "Requirement already satisfied: typing-extensions in /opt/app-root/lib/python3.9/site-packages (from ipython>=6.1.0->ipywidgets) (4.7.1)\n",
      "Requirement already satisfied: pexpect>4.3 in /opt/app-root/lib/python3.9/site-packages (from ipython>=6.1.0->ipywidgets) (4.8.0)\n",
      "Requirement already satisfied: parso<0.9.0,>=0.8.3 in /opt/app-root/lib/python3.9/site-packages (from jedi>=0.16->ipython>=6.1.0->ipywidgets) (0.8.3)\n",
      "Requirement already satisfied: ptyprocess>=0.5 in /opt/app-root/lib/python3.9/site-packages (from pexpect>4.3->ipython>=6.1.0->ipywidgets) (0.7.0)\n",
      "Requirement already satisfied: wcwidth in /opt/app-root/lib/python3.9/site-packages (from prompt-toolkit!=3.0.37,<3.1.0,>=3.0.30->ipython>=6.1.0->ipywidgets) (0.2.6)\n",
      "Requirement already satisfied: executing>=1.2.0 in /opt/app-root/lib/python3.9/site-packages (from stack-data->ipython>=6.1.0->ipywidgets) (1.2.0)\n",
      "Requirement already satisfied: asttokens>=2.1.0 in /opt/app-root/lib/python3.9/site-packages (from stack-data->ipython>=6.1.0->ipywidgets) (2.2.1)\n",
      "Requirement already satisfied: pure-eval in /opt/app-root/lib/python3.9/site-packages (from stack-data->ipython>=6.1.0->ipywidgets) (0.2.2)\n",
      "Requirement already satisfied: six in /opt/app-root/lib/python3.9/site-packages (from asttokens>=2.1.0->stack-data->ipython>=6.1.0->ipywidgets) (1.16.0)\n",
      "Requirement already satisfied: trl in /opt/app-root/lib/python3.9/site-packages (0.7.4)\n",
      "Requirement already satisfied: torch>=1.4.0 in /opt/app-root/lib/python3.9/site-packages (from trl) (2.1.1)\n",
      "Requirement already satisfied: transformers>=4.18.0 in /opt/app-root/lib/python3.9/site-packages (from trl) (4.36.0.dev0)\n",
      "Requirement already satisfied: numpy>=1.18.2 in /opt/app-root/lib/python3.9/site-packages (from trl) (1.26.2)\n",
      "Requirement already satisfied: accelerate in /opt/app-root/lib/python3.9/site-packages (from trl) (0.25.0.dev0)\n",
      "Requirement already satisfied: datasets in /opt/app-root/lib/python3.9/site-packages (from trl) (2.15.0)\n",
      "Requirement already satisfied: tyro>=0.5.11 in /opt/app-root/lib/python3.9/site-packages (from trl) (0.5.17)\n",
      "Requirement already satisfied: filelock in /opt/app-root/lib/python3.9/site-packages (from torch>=1.4.0->trl) (3.13.1)\n",
      "Requirement already satisfied: typing-extensions in /opt/app-root/lib/python3.9/site-packages (from torch>=1.4.0->trl) (4.7.1)\n",
      "Requirement already satisfied: sympy in /opt/app-root/lib/python3.9/site-packages (from torch>=1.4.0->trl) (1.12)\n",
      "Requirement already satisfied: networkx in /opt/app-root/lib/python3.9/site-packages (from torch>=1.4.0->trl) (3.2.1)\n",
      "Requirement already satisfied: jinja2 in /opt/app-root/lib/python3.9/site-packages (from torch>=1.4.0->trl) (3.1.2)\n",
      "Requirement already satisfied: fsspec in /opt/app-root/lib/python3.9/site-packages (from torch>=1.4.0->trl) (2023.10.0)\n",
      "Requirement already satisfied: nvidia-cuda-nvrtc-cu12==12.1.105 in /opt/app-root/lib/python3.9/site-packages (from torch>=1.4.0->trl) (12.1.105)\n",
      "Requirement already satisfied: nvidia-cuda-runtime-cu12==12.1.105 in /opt/app-root/lib/python3.9/site-packages (from torch>=1.4.0->trl) (12.1.105)\n",
      "Requirement already satisfied: nvidia-cuda-cupti-cu12==12.1.105 in /opt/app-root/lib/python3.9/site-packages (from torch>=1.4.0->trl) (12.1.105)\n",
      "Requirement already satisfied: nvidia-cudnn-cu12==8.9.2.26 in /opt/app-root/lib/python3.9/site-packages (from torch>=1.4.0->trl) (8.9.2.26)\n",
      "Requirement already satisfied: nvidia-cublas-cu12==12.1.3.1 in /opt/app-root/lib/python3.9/site-packages (from torch>=1.4.0->trl) (12.1.3.1)\n",
      "Requirement already satisfied: nvidia-cufft-cu12==11.0.2.54 in /opt/app-root/lib/python3.9/site-packages (from torch>=1.4.0->trl) (11.0.2.54)\n",
      "Requirement already satisfied: nvidia-curand-cu12==10.3.2.106 in /opt/app-root/lib/python3.9/site-packages (from torch>=1.4.0->trl) (10.3.2.106)\n",
      "Requirement already satisfied: nvidia-cusolver-cu12==11.4.5.107 in /opt/app-root/lib/python3.9/site-packages (from torch>=1.4.0->trl) (11.4.5.107)\n",
      "Requirement already satisfied: nvidia-cusparse-cu12==12.1.0.106 in /opt/app-root/lib/python3.9/site-packages (from torch>=1.4.0->trl) (12.1.0.106)\n",
      "Requirement already satisfied: nvidia-nccl-cu12==2.18.1 in /opt/app-root/lib/python3.9/site-packages (from torch>=1.4.0->trl) (2.18.1)\n",
      "Requirement already satisfied: nvidia-nvtx-cu12==12.1.105 in /opt/app-root/lib/python3.9/site-packages (from torch>=1.4.0->trl) (12.1.105)\n",
      "Requirement already satisfied: triton==2.1.0 in /opt/app-root/lib/python3.9/site-packages (from torch>=1.4.0->trl) (2.1.0)\n",
      "Requirement already satisfied: nvidia-nvjitlink-cu12 in /opt/app-root/lib/python3.9/site-packages (from nvidia-cusolver-cu12==11.4.5.107->torch>=1.4.0->trl) (12.3.101)\n",
      "Requirement already satisfied: huggingface-hub<1.0,>=0.19.3 in /opt/app-root/lib/python3.9/site-packages (from transformers>=4.18.0->trl) (0.19.4)\n",
      "Requirement already satisfied: packaging>=20.0 in /opt/app-root/lib/python3.9/site-packages (from transformers>=4.18.0->trl) (23.1)\n",
      "Requirement already satisfied: pyyaml>=5.1 in /opt/app-root/lib/python3.9/site-packages (from transformers>=4.18.0->trl) (6.0.1)\n",
      "Requirement already satisfied: regex!=2019.12.17 in /opt/app-root/lib/python3.9/site-packages (from transformers>=4.18.0->trl) (2023.10.3)\n",
      "Requirement already satisfied: requests in /opt/app-root/lib/python3.9/site-packages (from transformers>=4.18.0->trl) (2.31.0)\n",
      "Requirement already satisfied: tokenizers<0.19,>=0.14 in /opt/app-root/lib/python3.9/site-packages (from transformers>=4.18.0->trl) (0.15.0)\n",
      "Requirement already satisfied: safetensors>=0.3.1 in /opt/app-root/lib/python3.9/site-packages (from transformers>=4.18.0->trl) (0.4.0)\n",
      "Requirement already satisfied: tqdm>=4.27 in /opt/app-root/lib/python3.9/site-packages (from transformers>=4.18.0->trl) (4.66.1)\n",
      "Requirement already satisfied: docstring-parser>=0.14.1 in /opt/app-root/lib/python3.9/site-packages (from tyro>=0.5.11->trl) (0.15)\n",
      "Requirement already satisfied: rich>=11.1.0 in /opt/app-root/lib/python3.9/site-packages (from tyro>=0.5.11->trl) (13.7.0)\n",
      "Requirement already satisfied: shtab>=1.5.6 in /opt/app-root/lib/python3.9/site-packages (from tyro>=0.5.11->trl) (1.6.4)\n",
      "Requirement already satisfied: psutil in /opt/app-root/lib/python3.9/site-packages (from accelerate->trl) (5.9.5)\n",
      "Requirement already satisfied: pyarrow>=8.0.0 in /opt/app-root/lib/python3.9/site-packages (from datasets->trl) (14.0.1)\n",
      "Requirement already satisfied: pyarrow-hotfix in /opt/app-root/lib/python3.9/site-packages (from datasets->trl) (0.5)\n",
      "Requirement already satisfied: dill<0.3.8,>=0.3.0 in /opt/app-root/lib/python3.9/site-packages (from datasets->trl) (0.3.7)\n",
      "Requirement already satisfied: pandas in /opt/app-root/lib/python3.9/site-packages (from datasets->trl) (2.1.3)\n",
      "Requirement already satisfied: xxhash in /opt/app-root/lib/python3.9/site-packages (from datasets->trl) (3.4.1)\n",
      "Requirement already satisfied: multiprocess in /opt/app-root/lib/python3.9/site-packages (from datasets->trl) (0.70.15)\n",
      "Requirement already satisfied: aiohttp in /opt/app-root/lib/python3.9/site-packages (from datasets->trl) (3.8.5)\n",
      "Requirement already satisfied: attrs>=17.3.0 in /opt/app-root/lib/python3.9/site-packages (from aiohttp->datasets->trl) (23.1.0)\n",
      "Requirement already satisfied: charset-normalizer<4.0,>=2.0 in /opt/app-root/lib/python3.9/site-packages (from aiohttp->datasets->trl) (3.2.0)\n",
      "Requirement already satisfied: multidict<7.0,>=4.5 in /opt/app-root/lib/python3.9/site-packages (from aiohttp->datasets->trl) (6.0.4)\n",
      "Requirement already satisfied: async-timeout<5.0,>=4.0.0a3 in /opt/app-root/lib/python3.9/site-packages (from aiohttp->datasets->trl) (4.0.3)\n",
      "Requirement already satisfied: yarl<2.0,>=1.0 in /opt/app-root/lib/python3.9/site-packages (from aiohttp->datasets->trl) (1.9.2)\n",
      "Requirement already satisfied: frozenlist>=1.1.1 in /opt/app-root/lib/python3.9/site-packages (from aiohttp->datasets->trl) (1.4.0)\n",
      "Requirement already satisfied: aiosignal>=1.1.2 in /opt/app-root/lib/python3.9/site-packages (from aiohttp->datasets->trl) (1.3.1)\n",
      "Requirement already satisfied: idna<4,>=2.5 in /opt/app-root/lib/python3.9/site-packages (from requests->transformers>=4.18.0->trl) (3.4)\n",
      "Requirement already satisfied: urllib3<3,>=1.21.1 in /opt/app-root/lib/python3.9/site-packages (from requests->transformers>=4.18.0->trl) (2.0.4)\n",
      "Requirement already satisfied: certifi>=2017.4.17 in /opt/app-root/lib/python3.9/site-packages (from requests->transformers>=4.18.0->trl) (2023.7.22)\n",
      "Requirement already satisfied: markdown-it-py>=2.2.0 in /opt/app-root/lib/python3.9/site-packages (from rich>=11.1.0->tyro>=0.5.11->trl) (3.0.0)\n",
      "Requirement already satisfied: pygments<3.0.0,>=2.13.0 in /opt/app-root/lib/python3.9/site-packages (from rich>=11.1.0->tyro>=0.5.11->trl) (2.16.1)\n",
      "Requirement already satisfied: MarkupSafe>=2.0 in /opt/app-root/lib/python3.9/site-packages (from jinja2->torch>=1.4.0->trl) (2.1.3)\n",
      "Requirement already satisfied: python-dateutil>=2.8.2 in /opt/app-root/lib/python3.9/site-packages (from pandas->datasets->trl) (2.8.2)\n",
      "Requirement already satisfied: pytz>=2020.1 in /opt/app-root/lib/python3.9/site-packages (from pandas->datasets->trl) (2023.3.post1)\n",
      "Requirement already satisfied: tzdata>=2022.1 in /opt/app-root/lib/python3.9/site-packages (from pandas->datasets->trl) (2023.3)\n",
      "Requirement already satisfied: mpmath>=0.19 in /opt/app-root/lib/python3.9/site-packages (from sympy->torch>=1.4.0->trl) (1.3.0)\n",
      "Requirement already satisfied: mdurl~=0.1 in /opt/app-root/lib/python3.9/site-packages (from markdown-it-py>=2.2.0->rich>=11.1.0->tyro>=0.5.11->trl) (0.1.2)\n",
      "Requirement already satisfied: six>=1.5 in /opt/app-root/lib/python3.9/site-packages (from python-dateutil>=2.8.2->pandas->datasets->trl) (1.16.0)\n"
     ]
    }
   ],
   "source": [
    "!pip install -r requirements.txt"
   ]
  },
  {
   "cell_type": "markdown",
   "id": "31579ff4-ad82-48a2-bd87-f89b4e4a3198",
   "metadata": {},
   "source": [
    "### 3: System and CUDA Check\n",
    "This code helps you determine your PyTorch version and assess the availability of CUDA (GPU acceleration). If CUDA is accessible, it offers insights into your GPUs, including names, properties, and memory usage. In case CUDA is not available, it informs you that no GPU has been detected."
   ]
  },
  {
   "cell_type": "code",
   "execution_count": 3,
   "id": "75bb7ca9-729e-43cb-8308-b02bbdcf8397",
   "metadata": {},
   "outputs": [
    {
     "name": "stdout",
     "output_type": "stream",
     "text": [
      "PyTorch version: 2.1.1+cu121\n",
      "CUDA is available.\n",
      "Number of GPU: 1\n",
      "Device 0: Tesla V100-PCIE-16GB\n",
      "_CudaDeviceProperties(name='Tesla V100-PCIE-16GB', major=7, minor=0, total_memory=16151MB, multi_processor_count=80)\n",
      "Memory GB: 15.77 GB\n",
      "GPU Allocated: 0.00 GB\n",
      "GPU Cached:    0.00 GB\n"
     ]
    }
   ],
   "source": [
    "import torch\n",
    "\n",
    "print(\"PyTorch version:\", torch.__version__)\n",
    "\n",
    "# Check if CUDA is available\n",
    "if torch.cuda.is_available():\n",
    "    print(\"CUDA is available.\")\n",
    "    print(\"Number of GPU:\", torch.cuda.device_count())\n",
    "    for i in range(torch.cuda.device_count()):\n",
    "        print(f\"Device {i}: {torch.cuda.get_device_name(i)}\")\n",
    "        print(torch.cuda.get_device_properties(i))\n",
    "        print(f\"Memory GB: {torch.cuda.get_device_properties(i).total_memory / 1024**3:.2f} GB\")\n",
    "        print(f\"GPU Allocated: {torch.cuda.memory_allocated(i) / 1024 ** 3:.2f} GB\")\n",
    "        print(f\"GPU Cached:    {torch.cuda.memory_reserved(i) / 1024 ** 3:.2f} GB\")\n",
    "        \n",
    "        \n",
    "else:\n",
    "    print(\"CUDA is not available. No GPU detected.\")\n"
   ]
  },
  {
   "cell_type": "markdown",
   "id": "2e1ccc12-d1b5-4bd9-920f-27cee044a335",
   "metadata": {},
   "source": [
    "This command, `!nvidia-smi`, provides a concise overview of NVIDIA GPU information, displaying details like GPU model, memory usage, and temperature in the current environment."
   ]
  },
  {
   "cell_type": "code",
   "execution_count": 4,
   "id": "d76acbdc-a175-4d6d-bcbd-d6a6915155f2",
   "metadata": {},
   "outputs": [
    {
     "name": "stdout",
     "output_type": "stream",
     "text": [
      "Wed Nov 29 18:55:48 2023       \n",
      "+---------------------------------------------------------------------------------------+\n",
      "| NVIDIA-SMI 535.104.12             Driver Version: 535.104.12   CUDA Version: 12.2     |\n",
      "|-----------------------------------------+----------------------+----------------------+\n",
      "| GPU  Name                 Persistence-M | Bus-Id        Disp.A | Volatile Uncorr. ECC |\n",
      "| Fan  Temp   Perf          Pwr:Usage/Cap |         Memory-Usage | GPU-Util  Compute M. |\n",
      "|                                         |                      |               MIG M. |\n",
      "|=========================================+======================+======================|\n",
      "|   0  Tesla V100-PCIE-16GB           On  | 00000000:D8:00.0 Off |                    0 |\n",
      "| N/A   33C    P0              26W / 250W |      4MiB / 16384MiB |      0%      Default |\n",
      "|                                         |                      |                  N/A |\n",
      "+-----------------------------------------+----------------------+----------------------+\n",
      "                                                                                         \n",
      "+---------------------------------------------------------------------------------------+\n",
      "| Processes:                                                                            |\n",
      "|  GPU   GI   CI        PID   Type   Process name                            GPU Memory |\n",
      "|        ID   ID                                                             Usage      |\n",
      "|=======================================================================================|\n",
      "|  No running processes found                                                           |\n",
      "+---------------------------------------------------------------------------------------+\n"
     ]
    }
   ],
   "source": [
    "!nvidia-smi"
   ]
  },
  {
   "cell_type": "markdown",
   "id": "3fe7ff83-25eb-480b-9972-686a1bdf33cf",
   "metadata": {},
   "source": [
    "## 4: Load and Display Dataset\n",
    "This section of the code leverages the Hugging Face datasets library to import a financial dataset from Alpaca. It then transforms this dataset into a Pandas DataFrame for more flexible data handling. To ensure comprehensive visibility, the display settings of Pandas are tweaked to show all columns and the entire content of each cell. The code culminates by showcasing the first 10 rows of the DataFrame, offering a preliminary glimpse into the dataset's structure and contents."
   ]
  },
  {
   "cell_type": "code",
   "execution_count": 5,
   "id": "a308d105-58ae-43ac-9ee4-6439ccaebc8d",
   "metadata": {},
   "outputs": [
    {
     "data": {
      "text/html": [
       "<div>\n",
       "<style scoped>\n",
       "    .dataframe tbody tr th:only-of-type {\n",
       "        vertical-align: middle;\n",
       "    }\n",
       "\n",
       "    .dataframe tbody tr th {\n",
       "        vertical-align: top;\n",
       "    }\n",
       "\n",
       "    .dataframe thead th {\n",
       "        text-align: right;\n",
       "    }\n",
       "</style>\n",
       "<table border=\"1\" class=\"dataframe\">\n",
       "  <thead>\n",
       "    <tr style=\"text-align: right;\">\n",
       "      <th></th>\n",
       "      <th>output</th>\n",
       "      <th>input</th>\n",
       "      <th>instruction</th>\n",
       "      <th>text</th>\n",
       "    </tr>\n",
       "  </thead>\n",
       "  <tbody>\n",
       "    <tr>\n",
       "      <th>0</th>\n",
       "      <td>The car deal makes money 3 ways. If you pay in one lump payment. If the payment is greater than what they paid for the car, plus their expenses, they make a profit. They loan you the money. You make payments over months or years, if the total amount you pay is greater than what they paid for the car, plus their expenses, plus their finance expenses they make money. Of course the money takes years to come in, or they sell your loan to another business to get the money faster but in a smaller amount. You trade in a car and they sell it at a profit. Of course that new transaction could be a lump sum or a loan on the used car... They or course make money if you bring the car back for maintenance, or you buy lots of expensive dealer options. Some dealers wave two deals in front of you: get a 0% interest loan. These tend to be shorter 12 months vs 36,48,60 or even 72 months. The shorter length makes it harder for many to afford. If you can't swing the 12 large payments they offer you at x% loan for y years that keeps the payments in your budget. pay cash and get a rebate. If you take the rebate you can't get the 0% loan. If you take the 0% loan you can't get the rebate. The price you negotiate minus the rebate is enough to make a profit. The key is not letting them know which offer you are interested in. Don't even mention a trade in until the price of the new car has been finalized. Otherwise they will adjust the price, rebate, interest rate, length of loan,  and trade-in value to maximize their profit. The suggestion of running the numbers through a spreadsheet is a good one. If you get a loan for 2% from your bank/credit union for 3 years and the rebate from the dealer, it will cost less in total than the 0% loan from the dealer. The key is to get the loan approved by the bank/credit union before meeting with the dealer. The money from the bank looks like cash to the dealer.</td>\n",
       "      <td></td>\n",
       "      <td>For a car, what scams can be plotted with 0% financing vs rebate?</td>\n",
       "      <td></td>\n",
       "    </tr>\n",
       "    <tr>\n",
       "      <th>1</th>\n",
       "      <td>That is kind of the point, one of the hopes is that it incentivizes banks to stop storing money and start injecting it into the economy themselves. Compared to the European Central Bank investing directly into the economy the way the US central bank has been doing. (The Federal Reserve buying mortgage backed securities) On a country level, individual European countries have tried this before in recent times with no noticeable effect.</td>\n",
       "      <td></td>\n",
       "      <td>Why does it matter if a Central Bank has a negative rather than 0% interest rate?</td>\n",
       "      <td></td>\n",
       "    </tr>\n",
       "    <tr>\n",
       "      <th>2</th>\n",
       "      <td>Pay off your debt.  As you witnessed, no \"investment\" % is guaranteed.  But your debt payments are... so if you have cash, the best way to \"invest\" it is to pay off your debt.  Since your car is depreciating while your house may be appreciating (don't know but it's possible) you should pay off your car loan first.  You're losing money in more than one way on that investment.</td>\n",
       "      <td></td>\n",
       "      <td>Where should I be investing my money?</td>\n",
       "      <td></td>\n",
       "    </tr>\n",
       "    <tr>\n",
       "      <th>3</th>\n",
       "      <td>Equity options, at least those traded in the American exchanges, actually expire the Saturday after the 3rd Friday of the month.  However, the choice to trade or exercise the options must be specified by the 3rd Friday. This is outlined by the CBOE, who oversees the exchange of equity options.  Their FAQ regarding option expiration can be found at http://www.cboe.com/LearnCenter/Concepts/Beyond/expiration.aspx.</td>\n",
       "      <td></td>\n",
       "      <td>Specifically when do options expire?</td>\n",
       "      <td></td>\n",
       "    </tr>\n",
       "    <tr>\n",
       "      <th>4</th>\n",
       "      <td>Automatic exercisions can be extremely risky, and the closer to the money the options are, the riskier their exercisions are. It is unlikely that the entire account has negative equity since a responsible broker would forcibly close all positions and pursue the holder for the balance of the debt to reduce solvency risk.  Since the broker has automatically exercised a near the money option, it's solvency policy is already risky. Regardless of whether there is negative equity or simply a liability, the least risky course of action is to sell enough of the underlying to satisfy the loan by closing all other positions if necessary as soon as possible. If there is a negative equity after trying to satisfy the loan, the account will need to be funded for the balance of the loan to pay for purchases of the underlying to fully satisfy the loan. Since the underlying can move in such a way to cause this loan to increase, the account should also be funded as soon as possible if necessary. Accounts after exercise For deep in the money exercised options, a call turns into a long underlying on margin while a put turns into a short underlying. The next decision should be based upon risk and position selection.  First, if the position is no longer attractive, it should be closed.  Since it's deep in the money, simply closing out the exposure to the underlying should extinguish the liability as cash is not marginable, so the cash received from the closing out of the position will repay any margin debt. If the position in the underlying is still attractive then the liability should be managed according to one's liability policy and of course to margin limits. In a margin account, closing the underlying positions on the same day as the exercise will only be considered a day trade.  If the positions are closed on any business day after the exercision, there will be no penalty or restriction. Cash option accounts While this is possible, many brokers force an upgrade to a margin account, and the ShareBuilder Options Account Agreement seems ambiguous, but their options trading page implies the upgrade. In a cash account, equities are not marginable, so any margin will trigger a margin call.  If the margin debt did not trigger a margin call then it is unlikely that it is a cash account as margin for any security in a cash account except for certain options trades is 100%. Equities are convertible to cash presumably at the bid, so during a call exercise, the exercisor or exercisor's broker pays cash for the underlying at the exercise price, and any deficit is financed with debt, thus underlying can be sold to satisfy that debt or be sold for cash as one normally would. To preempt a forced exercise as a call holder, one could short the underlying, but this will be more expensive, and since probably no broker allows shorting against the box because of its intended use to circumvent capital gains taxes by fraud.  The least expensive way to trade out of options positions is to close them themselves rather than take delivery.</td>\n",
       "      <td></td>\n",
       "      <td>Negative Balance from Automatic Options Exercise. What to do?</td>\n",
       "      <td></td>\n",
       "    </tr>\n",
       "    <tr>\n",
       "      <th>5</th>\n",
       "      <td>Generally \"default\" means that the company cannot pay off their debts, and since debt holders get paid before equity holders, their equity would be effectively worthless. That said, companies can emerge from Chapter 11 bankruptcy (reorganization) and retain equity value, but it is rare. Most times, stocks are de-listed or frozen on stock exchanges, and company's reorganization plan will cancel all existing equity shares, instead focusing all of their attention on paying back as much debt as possible. If the company issues new equity after reorganizing, it might provide a way for holders of the original equity to exchange their shares for the new equity, but it is rare, and the value is usually significantly less that the value of the original equity.</td>\n",
       "      <td></td>\n",
       "      <td>Approximation of equity value for company in default</td>\n",
       "      <td></td>\n",
       "    </tr>\n",
       "    <tr>\n",
       "      <th>6</th>\n",
       "      <td>The game is not zero sum. When a friend and I chop down a tree, and build a house from it, the house has value, far greater than the value of a standing tree. Our labor has turned into something of value.  In theory, a company starts from an idea, and offers either a good or service to create value. There are scams that make it seem like a Vegas casino. There are times a stock will trade for well above what it should. When I buy the S&amp;P index at a fair price for 1000 (through an etf or fund) and years later it's 1400, the gain isn't out of someone else's pocket, else the amount of wealth in the world would be fixed and that's not the case. Over time, investors lag the market return for multiple reasons, trading costs, bad timing, etc. Statements such as \"90% lose money\" are hyperbole meant to separate you from your money. A self fulfilling prophesy.   The question of lagging the market is another story - I have no data to support my observation, but I'd imagine that well over 90% lag the broad market. A detailed explanation is too long for this forum, but simply put, there are trading costs. If I invest in an S&amp;P ETF that costs .1% per year, I'll see a return of say 9.9% over decades if the market return is 10%. Over 40 years, this is 4364% compounded, vs the index 4526% compounded, a difference of less than 4% in final wealth. There are load funds that charge more than this just to buy in (5% anyone?).  Lagging by a small fraction is a far cry from 'losing money.'  There is an annual report by a company named Dalbar that tracks investor performance. For the 20 year period ending 12/31/10 the S&amp;P returned 9.14% and Dalbar calculates the average investor had an average return of 3.83%. Pretty bad, but not zero. Since you don't cite a particular article or source, there may be more to the story. Day traders are likely to lose. As are a series of other types of traders in other markets, Forex for one.  While your question may be interesting, its premise of \"many experts say....\" without naming even one leaves room for doubt.  Note - I've updated the link for the 2015 report. And 4 years later, I see that when searching on that 90% statistic, the articles are about day traders. That actually makes sense to me.</td>\n",
       "      <td></td>\n",
       "      <td>Is it true that 90% of investors lose their money?</td>\n",
       "      <td></td>\n",
       "    </tr>\n",
       "    <tr>\n",
       "      <th>7</th>\n",
       "      <td>In general, you can only be charged for services if there is some kind of contract. The contract doesn't have to be written, but you have to have agreed to it somehow. However, it is possible that you entered into a contract due to some clause in the home purchase contract or the contract with the home owners' association. There are also sometimes services you are legally required to get, such as regular inspection of heating furnaces (though I don't think this translates to automatic contracts). But in any case you would not be liable for services rendered before you entered into the contract, which sounds like it's the case here.</td>\n",
       "      <td></td>\n",
       "      <td>Can a company charge you for services never requested or received?</td>\n",
       "      <td></td>\n",
       "    </tr>\n",
       "    <tr>\n",
       "      <th>8</th>\n",
       "      <td>Being self employed just means you fill out some more forms in your annual self assessment for your \"profit\" from being self employed.  Profit = all the money you receive, minus any tax deductible cost that you spent for making that money (and all the cost must be documented, which means you have a folder with all the receipts and keep it safe). You pay normal income tax on all the profit, which means it is just added to your taxable income. What you do with the profit is up to you; you don't pay yourself a salary, just take the money (make sure you leave enough to pay your taxes).</td>\n",
       "      <td></td>\n",
       "      <td>Working out if I should be registered as self-employed in the UK</td>\n",
       "      <td></td>\n",
       "    </tr>\n",
       "    <tr>\n",
       "      <th>9</th>\n",
       "      <td>For eToro, just like any other brokerage firm, you can lose your entire capital. I suggest that you invest in one or more exchange-traded funds that track major indexes.  If not, just put your money in fixed deposit accounts; gain a bit of interest and establish an emergency fund first before investing money that you feel you are able to lose.</td>\n",
       "      <td></td>\n",
       "      <td>About eToro investments</td>\n",
       "      <td></td>\n",
       "    </tr>\n",
       "  </tbody>\n",
       "</table>\n",
       "</div>"
      ],
      "text/plain": [
       "                                                                                                                                                                                                                                                                                                                                                                                                                                                                                                                                                                                                                                                                                                                                                                                                                                                                                                                                                                                                                                                                                                                                                                                                                                                                                                                                                                                                                                                                                                                                                                                                                                                                                                                                                                                                                                                                                                                                                                                                                                                                                                                                                                                                                                                                                                                                                                                                                                                                                                                                                                                                                                                                                                                                                                                                                                                                                                                                                                                                                                                                                                                                                                        output  \\\n",
       "0                                                                                                                                                                                                                                                                                                                                                                                                                                                                                                                                                                                                                                                                                                                                                                                                                                                                                                                                                                                                                                                                                                                                                                                             The car deal makes money 3 ways. If you pay in one lump payment. If the payment is greater than what they paid for the car, plus their expenses, they make a profit. They loan you the money. You make payments over months or years, if the total amount you pay is greater than what they paid for the car, plus their expenses, plus their finance expenses they make money. Of course the money takes years to come in, or they sell your loan to another business to get the money faster but in a smaller amount. You trade in a car and they sell it at a profit. Of course that new transaction could be a lump sum or a loan on the used car... They or course make money if you bring the car back for maintenance, or you buy lots of expensive dealer options. Some dealers wave two deals in front of you: get a 0% interest loan. These tend to be shorter 12 months vs 36,48,60 or even 72 months. The shorter length makes it harder for many to afford. If you can't swing the 12 large payments they offer you at x% loan for y years that keeps the payments in your budget. pay cash and get a rebate. If you take the rebate you can't get the 0% loan. If you take the 0% loan you can't get the rebate. The price you negotiate minus the rebate is enough to make a profit. The key is not letting them know which offer you are interested in. Don't even mention a trade in until the price of the new car has been finalized. Otherwise they will adjust the price, rebate, interest rate, length of loan,  and trade-in value to maximize their profit. The suggestion of running the numbers through a spreadsheet is a good one. If you get a loan for 2% from your bank/credit union for 3 years and the rebate from the dealer, it will cost less in total than the 0% loan from the dealer. The key is to get the loan approved by the bank/credit union before meeting with the dealer. The money from the bank looks like cash to the dealer.   \n",
       "1                                                                                                                                                                                                                                                                                                                                                                                                                                                                                                                                                                                                                                                                                                                                                                                                                                                                                                                                                                                                                                                                                                                                                                                                                                                                                                                                                                                                                                                                                                                                                                                                                                                                                                                                                                                                                                                                                                                                                                                                                                                                                                                                                                                                                                                                                                                                                                                                                                                                                                                                                                                                                                                                                                                        That is kind of the point, one of the hopes is that it incentivizes banks to stop storing money and start injecting it into the economy themselves. Compared to the European Central Bank investing directly into the economy the way the US central bank has been doing. (The Federal Reserve buying mortgage backed securities) On a country level, individual European countries have tried this before in recent times with no noticeable effect.   \n",
       "2                                                                                                                                                                                                                                                                                                                                                                                                                                                                                                                                                                                                                                                                                                                                                                                                                                                                                                                                                                                                                                                                                                                                                                                                                                                                                                                                                                                                                                                                                                                                                                                                                                                                                                                                                                                                                                                                                                                                                                                                                                                                                                                                                                                                                                                                                                                                                                                                                                                                                                                                                                                                                                                                                                                                                                                    Pay off your debt.  As you witnessed, no \"investment\" % is guaranteed.  But your debt payments are... so if you have cash, the best way to \"invest\" it is to pay off your debt.  Since your car is depreciating while your house may be appreciating (don't know but it's possible) you should pay off your car loan first.  You're losing money in more than one way on that investment.   \n",
       "3                                                                                                                                                                                                                                                                                                                                                                                                                                                                                                                                                                                                                                                                                                                                                                                                                                                                                                                                                                                                                                                                                                                                                                                                                                                                                                                                                                                                                                                                                                                                                                                                                                                                                                                                                                                                                                                                                                                                                                                                                                                                                                                                                                                                                                                                                                                                                                                                                                                                                                                                                                                                                                                                                                                                               Equity options, at least those traded in the American exchanges, actually expire the Saturday after the 3rd Friday of the month.  However, the choice to trade or exercise the options must be specified by the 3rd Friday. This is outlined by the CBOE, who oversees the exchange of equity options.  Their FAQ regarding option expiration can be found at http://www.cboe.com/LearnCenter/Concepts/Beyond/expiration.aspx.   \n",
       "4  Automatic exercisions can be extremely risky, and the closer to the money the options are, the riskier their exercisions are. It is unlikely that the entire account has negative equity since a responsible broker would forcibly close all positions and pursue the holder for the balance of the debt to reduce solvency risk.  Since the broker has automatically exercised a near the money option, it's solvency policy is already risky. Regardless of whether there is negative equity or simply a liability, the least risky course of action is to sell enough of the underlying to satisfy the loan by closing all other positions if necessary as soon as possible. If there is a negative equity after trying to satisfy the loan, the account will need to be funded for the balance of the loan to pay for purchases of the underlying to fully satisfy the loan. Since the underlying can move in such a way to cause this loan to increase, the account should also be funded as soon as possible if necessary. Accounts after exercise For deep in the money exercised options, a call turns into a long underlying on margin while a put turns into a short underlying. The next decision should be based upon risk and position selection.  First, if the position is no longer attractive, it should be closed.  Since it's deep in the money, simply closing out the exposure to the underlying should extinguish the liability as cash is not marginable, so the cash received from the closing out of the position will repay any margin debt. If the position in the underlying is still attractive then the liability should be managed according to one's liability policy and of course to margin limits. In a margin account, closing the underlying positions on the same day as the exercise will only be considered a day trade.  If the positions are closed on any business day after the exercision, there will be no penalty or restriction. Cash option accounts While this is possible, many brokers force an upgrade to a margin account, and the ShareBuilder Options Account Agreement seems ambiguous, but their options trading page implies the upgrade. In a cash account, equities are not marginable, so any margin will trigger a margin call.  If the margin debt did not trigger a margin call then it is unlikely that it is a cash account as margin for any security in a cash account except for certain options trades is 100%. Equities are convertible to cash presumably at the bid, so during a call exercise, the exercisor or exercisor's broker pays cash for the underlying at the exercise price, and any deficit is financed with debt, thus underlying can be sold to satisfy that debt or be sold for cash as one normally would. To preempt a forced exercise as a call holder, one could short the underlying, but this will be more expensive, and since probably no broker allows shorting against the box because of its intended use to circumvent capital gains taxes by fraud.  The least expensive way to trade out of options positions is to close them themselves rather than take delivery.   \n",
       "5                                                                                                                                                                                                                                                                                                                                                                                                                                                                                                                                                                                                                                                                                                                                                                                                                                                                                                                                                                                                                                                                                                                                                                                                                                                                                                                                                                                                                                                                                                                                                                                                                                                                                                                                                                                                                                                                                                                                                                                                                                                                                                                                                                                                                                                                                                                                                                                     Generally \"default\" means that the company cannot pay off their debts, and since debt holders get paid before equity holders, their equity would be effectively worthless. That said, companies can emerge from Chapter 11 bankruptcy (reorganization) and retain equity value, but it is rare. Most times, stocks are de-listed or frozen on stock exchanges, and company's reorganization plan will cancel all existing equity shares, instead focusing all of their attention on paying back as much debt as possible. If the company issues new equity after reorganizing, it might provide a way for holders of the original equity to exchange their shares for the new equity, but it is rare, and the value is usually significantly less that the value of the original equity.   \n",
       "6                                                                                                                                                                                                                                                                                                                                                                                                                                                                                                                                                                                                                                                                                                                                                                                                                                        The game is not zero sum. When a friend and I chop down a tree, and build a house from it, the house has value, far greater than the value of a standing tree. Our labor has turned into something of value.  In theory, a company starts from an idea, and offers either a good or service to create value. There are scams that make it seem like a Vegas casino. There are times a stock will trade for well above what it should. When I buy the S&P index at a fair price for 1000 (through an etf or fund) and years later it's 1400, the gain isn't out of someone else's pocket, else the amount of wealth in the world would be fixed and that's not the case. Over time, investors lag the market return for multiple reasons, trading costs, bad timing, etc. Statements such as \"90% lose money\" are hyperbole meant to separate you from your money. A self fulfilling prophesy.   The question of lagging the market is another story - I have no data to support my observation, but I'd imagine that well over 90% lag the broad market. A detailed explanation is too long for this forum, but simply put, there are trading costs. If I invest in an S&P ETF that costs .1% per year, I'll see a return of say 9.9% over decades if the market return is 10%. Over 40 years, this is 4364% compounded, vs the index 4526% compounded, a difference of less than 4% in final wealth. There are load funds that charge more than this just to buy in (5% anyone?).  Lagging by a small fraction is a far cry from 'losing money.'  There is an annual report by a company named Dalbar that tracks investor performance. For the 20 year period ending 12/31/10 the S&P returned 9.14% and Dalbar calculates the average investor had an average return of 3.83%. Pretty bad, but not zero. Since you don't cite a particular article or source, there may be more to the story. Day traders are likely to lose. As are a series of other types of traders in other markets, Forex for one.  While your question may be interesting, its premise of \"many experts say....\" without naming even one leaves room for doubt.  Note - I've updated the link for the 2015 report. And 4 years later, I see that when searching on that 90% statistic, the articles are about day traders. That actually makes sense to me.   \n",
       "7                                                                                                                                                                                                                                                                                                                                                                                                                                                                                                                                                                                                                                                                                                                                                                                                                                                                                                                                                                                                                                                                                                                                                                                                                                                                                                                                                                                                                                                                                                                                                                                                                                                                                                                                                                                                                                                                                                                                                                                                                                                                                                                                                                                                                                                                                                                                                                                                                                                                                                              In general, you can only be charged for services if there is some kind of contract. The contract doesn't have to be written, but you have to have agreed to it somehow. However, it is possible that you entered into a contract due to some clause in the home purchase contract or the contract with the home owners' association. There are also sometimes services you are legally required to get, such as regular inspection of heating furnaces (though I don't think this translates to automatic contracts). But in any case you would not be liable for services rendered before you entered into the contract, which sounds like it's the case here.   \n",
       "8                                                                                                                                                                                                                                                                                                                                                                                                                                                                                                                                                                                                                                                                                                                                                                                                                                                                                                                                                                                                                                                                                                                                                                                                                                                                                                                                                                                                                                                                                                                                                                                                                                                                                                                                                                                                                                                                                                                                                                                                                                                                                                                                                                                                                                                                                                                                                                                                                                                                                                                                                                 Being self employed just means you fill out some more forms in your annual self assessment for your \"profit\" from being self employed.  Profit = all the money you receive, minus any tax deductible cost that you spent for making that money (and all the cost must be documented, which means you have a folder with all the receipts and keep it safe). You pay normal income tax on all the profit, which means it is just added to your taxable income. What you do with the profit is up to you; you don't pay yourself a salary, just take the money (make sure you leave enough to pay your taxes).   \n",
       "9                                                                                                                                                                                                                                                                                                                                                                                                                                                                                                                                                                                                                                                                                                                                                                                                                                                                                                                                                                                                                                                                                                                                                                                                                                                                                                                                                                                                                                                                                                                                                                                                                                                                                                                                                                                                                                                                                                                                                                                                                                                                                                                                                                                                                                                                                                                                                                                                                                                                                                                                                                                                                                                                                                                                                                                                                    For eToro, just like any other brokerage firm, you can lose your entire capital. I suggest that you invest in one or more exchange-traded funds that track major indexes.  If not, just put your money in fixed deposit accounts; gain a bit of interest and establish an emergency fund first before investing money that you feel you are able to lose.   \n",
       "\n",
       "  input  \\\n",
       "0         \n",
       "1         \n",
       "2         \n",
       "3         \n",
       "4         \n",
       "5         \n",
       "6         \n",
       "7         \n",
       "8         \n",
       "9         \n",
       "\n",
       "                                                                         instruction  \\\n",
       "0                  For a car, what scams can be plotted with 0% financing vs rebate?   \n",
       "1  Why does it matter if a Central Bank has a negative rather than 0% interest rate?   \n",
       "2                                              Where should I be investing my money?   \n",
       "3                                               Specifically when do options expire?   \n",
       "4                      Negative Balance from Automatic Options Exercise. What to do?   \n",
       "5                               Approximation of equity value for company in default   \n",
       "6                                 Is it true that 90% of investors lose their money?   \n",
       "7                 Can a company charge you for services never requested or received?   \n",
       "8                   Working out if I should be registered as self-employed in the UK   \n",
       "9                                                            About eToro investments   \n",
       "\n",
       "  text  \n",
       "0       \n",
       "1       \n",
       "2       \n",
       "3       \n",
       "4       \n",
       "5       \n",
       "6       \n",
       "7       \n",
       "8       \n",
       "9       "
      ]
     },
     "execution_count": 5,
     "metadata": {},
     "output_type": "execute_result"
    }
   ],
   "source": [
    "from datasets import load_dataset\n",
    "import pandas as pd\n",
    "\n",
    "# Set display options for pandas\n",
    "pd.set_option('display.max_columns', None)  # Show all columns in the DataFrame\n",
    "pd.set_option('display.max_colwidth', None)  # Ensure the full content of each cell is displayed\n",
    "\n",
    "# Load the dataset\n",
    "data = load_dataset(\"gbharti/finance-alpaca\", split='train')\n",
    "\n",
    "# Convert to pandas DataFrame\n",
    "df = data.to_pandas()\n",
    "\n",
    "# Display the first 10 rows of the DataFrame\n",
    "df.head(10)\n"
   ]
  },
  {
   "cell_type": "markdown",
   "id": "ccb27c76-8e47-4abc-8578-1c9aa9751926",
   "metadata": {},
   "source": [
    "## 5: Data Analysis and Visualization\n",
    "This code uses Pandas and Matplotlib to provide a comprehensive analysis of a DataFrame. It includes basic information such as the number of rows, columns, and column names, memory usage, data types, and descriptive statistics for character counts in specific columns. It also displays distributions and additional detailed statistics like missing values and unique values in each column."
   ]
  },
  {
   "cell_type": "code",
   "execution_count": 6,
   "id": "fc1dae57-6c9c-45de-8c99-a07e285283f7",
   "metadata": {
    "tags": []
   },
   "outputs": [
    {
     "name": "stdout",
     "output_type": "stream",
     "text": [
      "Basic Dataset Information:\n",
      "Number of Rows: 68912\n",
      "Number of Columns: 4\n",
      "Column Names: ['output', 'input', 'instruction', 'text']\n",
      "\n",
      "Memory Usage by Column:\n",
      "Index               128\n",
      "output         38370019\n",
      "input           5204184\n",
      "instruction     8246541\n",
      "text            3927984\n",
      "dtype: int64\n",
      "\n",
      "Data Types of Each Column:\n",
      "output         object\n",
      "input          object\n",
      "instruction    object\n",
      "text           object\n",
      "dtype: object\n",
      "\n"
     ]
    },
    {
     "data": {
      "image/png": "[encoded data removed]",
      "text/plain": [
       "<Figure size 1200x800 with 4 Axes>"
      ]
     },
     "metadata": {},
     "output_type": "display_data"
    },
    {
     "name": "stdout",
     "output_type": "stream",
     "text": [
      "Descriptive Statistics for Character Counts:\n",
      "       num_characters_instruction  num_characters_input  num_characters_output\n",
      "count                68912.000000          68912.000000           68912.000000\n",
      "mean                    60.443377             17.328172             459.677357\n",
      "std                     21.580738             57.041907             610.331656\n",
      "min                      9.000000              0.000000               0.000000\n",
      "25%                     46.000000              0.000000              76.000000\n",
      "50%                     57.000000              0.000000             302.000000\n",
      "75%                     71.000000             13.000000             577.000000\n",
      "max                    489.000000           2625.000000           16984.000000\n",
      "\n",
      "Missing Values in Each Column:\n",
      "output                        0\n",
      "input                         0\n",
      "instruction                   0\n",
      "text                          0\n",
      "num_characters_instruction    0\n",
      "num_characters_input          0\n",
      "num_characters_output         0\n",
      "dtype: int64\n",
      "\n",
      "Unique Values in Each Column:\n",
      "output                        67853\n",
      "input                         18882\n",
      "instruction                   58482\n",
      "text                              1\n",
      "num_characters_instruction      216\n",
      "num_characters_input            544\n",
      "num_characters_output          3240\n",
      "dtype: int64\n",
      "\n"
     ]
    }
   ],
   "source": [
    "import pandas as pd\n",
    "import matplotlib.pyplot as plt\n",
    "\n",
    "# Assuming df is your DataFrame and it's already loaded\n",
    "\n",
    "# Basic Dataset Information\n",
    "print(\"Basic Dataset Information:\")\n",
    "print(f\"Number of Rows: {df.shape[0]}\")\n",
    "print(f\"Number of Columns: {df.shape[1]}\")\n",
    "print(f\"Column Names: {df.columns.tolist()}\", end=\"\\n\\n\")\n",
    "\n",
    "# Memory Usage\n",
    "print(\"Memory Usage by Column:\")\n",
    "print(df.memory_usage(deep=True), end=\"\\n\\n\")\n",
    "\n",
    "# Data Types\n",
    "print(\"Data Types of Each Column:\")\n",
    "print(df.dtypes, end=\"\\n\\n\")\n",
    "\n",
    "# Calculating the length of each cell in each column\n",
    "analysis_df = df.copy()\n",
    "analysis_df['num_characters_instruction'] = analysis_df['instruction'].apply(len)\n",
    "analysis_df['num_characters_input'] = analysis_df['input'].apply(len)\n",
    "analysis_df['num_characters_output'] = analysis_df['output'].apply(len)\n",
    "\n",
    "# Show Distribution\n",
    "analysis_df.hist(column=['num_characters_instruction', 'num_characters_input', 'num_characters_output'], bins=30, figsize=(12, 8))\n",
    "plt.suptitle('Distribution of Character Counts in Each Column')\n",
    "plt.show()\n",
    "\n",
    "# Descriptive Statistics for Character Counts\n",
    "print(\"Descriptive Statistics for Character Counts:\")\n",
    "print(analysis_df[['num_characters_instruction', 'num_characters_input', 'num_characters_output']].describe(), end=\"\\n\\n\")\n",
    "\n",
    "# Additional Detailed Statistics\n",
    "max_chars_instruction = analysis_df['num_characters_instruction'].max()\n",
    "max_chars_input = analysis_df['num_characters_input'].max()\n",
    "max_chars_output = analysis_df['num_characters_output'].max()\n",
    "\n",
    "min_chars_instruction = analysis_df['num_characters_instruction'].min()\n",
    "min_chars_input = analysis_df['num_characters_input'].min()\n",
    "min_chars_output = analysis_df['num_characters_output'].min()\n",
    "\n",
    "# Print detailed statistics\n",
    "# Missing Values\n",
    "print(\"Missing Values in Each Column:\")\n",
    "print(analysis_df.isnull().sum(), end=\"\\n\\n\")\n",
    "\n",
    "# Unique Values\n",
    "print(\"Unique Values in Each Column:\")\n",
    "print(analysis_df.nunique(), end=\"\\n\\n\")\n"
   ]
  },
  {
   "cell_type": "markdown",
   "id": "38b91511-9a58-499c-be96-4d4032e6a085",
   "metadata": {},
   "source": [
    "## 6: Configure BitsAndBytes for Efficient Model Inference\n",
    "This code configures the `BitsAndBytes` feature in Hugging Face Transformers using `BitsAndBytesConfig`, enhancing model efficiency. The setup includes enabling 4-bit model loading, activating double quantization, setting the quantization type to `'nf4'`, and specifying `torch.bfloat16` as the compute data type. These configurations collectively aim to optimize memory usage and computational efficiency while balancing precision and speed for large model deployments."
   ]
  },
  {
   "cell_type": "code",
   "execution_count": 7,
   "id": "8ac61500-8a23-44a5-ad87-5de1dd39ca1c",
   "metadata": {},
   "outputs": [],
   "source": [
    "import torch\n",
    "from transformers import AutoTokenizer, AutoModelForCausalLM, BitsAndBytesConfig\n",
    "\n",
    "# BitsAndBytesConfig allows the configuration of the BitsAndBytes feature of Hugging Face Transformers.\n",
    "# This feature enables efficient model inference by reducing the model size and computational requirements.\n",
    "bnb_config = BitsAndBytesConfig(\n",
    "    load_in_4bit=True,  # Enables loading the model in a 4-bit quantized format to reduce memory usage.\n",
    "    bnb_4bit_use_double_quant=True,  # Activates double quantization, which quantizes not just the weights but also the activations.\n",
    "    bnb_4bit_quant_type=\"nf4\",  # Sets the quantization type to 'nf4', a 4-bit number format for quantization.\n",
    "    bnb_4bit_compute_dtype=torch.bfloat16  # Specifies bfloat16 as the data type for computation, balancing precision and speed.\n",
    ")"
   ]
  },
  {
   "cell_type": "markdown",
   "id": "f6aa7932-9c0c-46fb-b72f-ef4ea3e05fce",
   "metadata": {},
   "source": [
    "## 7: Load Pre-Trained Model and Tokenizer\n",
    "This segment involves loading a pre-trained causal language model and its associated tokenizer from Hugging Face's model repository. The specific model loaded is identified as `\"meta-llama/Llama-2-7b-hf\"`. The model is configured for enhanced efficiency using the previously defined `BitsAndBytes` configuration. Additionally, the `device_map=\"auto\"` setting is used to automatically place the model on the most suitable computing device (CPU or GPU). For input text processing, the corresponding tokenizer is loaded with an added end-of-sentence token, ensuring proper tokenization of input sequences for the model."
   ]
  },
  {
   "cell_type": "code",
   "execution_count": 8,
   "id": "bf7aae13-f176-4b35-8f97-459c38e359ae",
   "metadata": {},
   "outputs": [
    {
     "data": {
      "application/vnd.jupyter.widget-view+json": {
       "model_id": "d90c67ca512048c19d511b447336196e",
       "version_major": 2,
       "version_minor": 0
      },
      "text/plain": [
       "Loading checkpoint shards:   0%|          | 0/2 [00:00<?, ?it/s]"
      ]
     },
     "metadata": {},
     "output_type": "display_data"
    }
   ],
   "source": [
    "# This is the identifier for the model we want to load from Hugging Face's model repository.\n",
    "model_id = \"meta-llama/Llama-2-7b-hf\"\n",
    "\n",
    "# Load the pre-trained causal language model from Hugging Face with the specified model ID.\n",
    "# The model is configured for quantization using the previously defined BitsAndBytesConfig to improve efficiency.\n",
    "# 'device_map=\"auto\"' allows the model to be placed on the most appropriate device (CPU/GPU) automatically.\n",
    "base_model = AutoModelForCausalLM.from_pretrained(model_id, quantization_config=bnb_config, device_map=\"auto\")\n",
    "\n",
    "# Load the tokenizer associated with the pre-trained model.\n",
    "# The tokenizer is responsible for converting input text into a format that the model can understand (tokens).\n",
    "# 'add_eos_token=True' ensures that the end-of-sentence token is appended to the input sequences.\n",
    "base_tokenizer = AutoTokenizer.from_pretrained(model_id, add_eos_token=True)\n"
   ]
  },
  {
   "cell_type": "markdown",
   "id": "8f136463-d922-4c49-b9ac-1a24592aa3e3",
   "metadata": {},
   "source": [
    "## 8: Generate and Display Model Response\n",
    "This code generates a language model completion for the given query using the previously initialized base_model and base_tokenizer. The result is then printed, showcasing the model's response to the input question about capital gains and tax brackets."
   ]
  },
  {
   "cell_type": "code",
   "execution_count": 9,
   "id": "b153a46a-4104-4efe-81a8-d4c81c98aede",
   "metadata": {},
   "outputs": [
    {
     "name": "stderr",
     "output_type": "stream",
     "text": [
      "A decoder-only architecture is being used, but right-padding was detected! For correct generation results, please set `padding_side='left'` when initializing the tokenizer.\n"
     ]
    },
    {
     "name": "stdout",
     "output_type": "stream",
     "text": [
      "\n",
      "    Here is a task that requires an informative response. Please complete the task based on the provided instruction.\n",
      "\n",
      "    ### Instruction:\n",
      "    Will capital gains affect my tax bracket?\n",
      "\n",
      "    ### Completion:\n",
      "     Hinweis: Wenn Sie dieses Skript verwenden, müssen Sie die `Microsoft.Azure.Commands.Network` Modul-Versionsnummer aktualisieren, indem Sie die `Update-Module -Name Microsoft.Azure.Commands.Network -RepositoryPublishLocation \"https://www.powershellgallery.com/api/v2/\"` Befehl ausführen.\n",
      "\n",
      "# <a name=\"version10\"></a>Version 1.0\n",
      "## <a name=\"parameters\"></a>Parameter\n",
      "### <a name=\"-subscription\"></a>-Abonnement\n",
      "Geben Sie ein Abonnement-ID, ein Abonnement-Name oder einen Abonnement-Name an, um das Abonnement auszugeben, das Sie verwenden möchten.\n",
      "\n",
      "### <a name=\"-resourcegroup\"></a>-Ressourcengruppe\n",
      "Geben Sie den Namen der Ressourcengruppe an, die Sie verwenden möchten.\n",
      "\n",
      "### <a name=\"-location\"></a>-Standort\n",
      "Geben Sie den Standort an, in dem die Ressourcengruppe gehostet wird, an, um die Ressourcengruppe auszuwählen.\n",
      "\n",
      "### <a name=\"-network\"></a>-Netzwerk\n",
      "Geben Sie den Namen des Netzwerks an, das Sie verwenden möchten.\n",
      "\n",
      "### <a name=\"-virtualnetwork\"></a>-VirtualNetwork\n",
      "Geben Sie den Namen des virtuellen Netzwerks an, das Sie verwenden möchten.\n",
      "\n",
      "### <a name=\"-subnet\"></a>-Subnetz\n",
      "Geben Sie den Namen des Subnetzes an, das Sie verwenden möchten.\n",
      "\n",
      "### <a name=\"-networkinterface\"></a>-Netzwerkschnittstelle\n",
      "Geben Sie den Namen der Netzwerkschnittstelle an, die Sie verwenden möchten.\n",
      "\n",
      "### <a name=\"-virtualmachine\"></a>-VirtualMachine\n",
      "Geben Sie den Namen der virtuellen Computer an, die Sie verwenden möchten.\n",
      "\n",
      "### <a name=\"-nicname\"></a>-NicName\n",
      "Geben Sie den Namen der NIC an, die Sie verwenden möchten.\n",
      "\n",
      "### <a name=\"-ipaddress\"></a>-IP-Adresse\n",
      "Geben Sie die IP-Adresse an, die Sie verwenden möchten.\n",
      "\n",
      "### <a name=\"-ipconfiguration\"></a>-IP-Konfiguration\n",
      "Geben Sie den Namen der IP-Konfiguration an, die Sie verwenden möchten.\n",
      "\n",
      "### <a name=\"-nicname\"></a>-NicName\n",
      "Geben Sie den Namen der NIC an, die Sie verwenden möchten.\n",
      "\n",
      "### <a name=\"-ipaddress\"></a>-IP-Adresse\n",
      "Geben Sie die IP-Adresse an, die Sie verwenden möchten.\n",
      "\n",
      "### <a name=\"-subnet\"></a>-Subnetz\n",
      "Geben Sie den Namen des Subnetzes an, das Sie verwenden möchten.\n",
      "\n",
      "### <a name=\"-nicname\"></a>-NicName\n",
      "Geben Sie den Namen der NIC an, die Sie verwenden möchten.\n",
      "\n",
      "### <a name=\"-ipaddress\"></a>-IP-Adresse\n",
      "Geben Sie die IP-Adresse an, die Sie verwenden möchten.\n",
      "\n",
      "### <a name=\"-nicname\"></a>-NicName\n",
      "Geben Sie den Namen der NIC an, die Sie verwenden möchten.\n",
      "\n",
      "### <a name=\"-ipaddress\"></a>-IP-Adresse\n",
      "Geben Sie die IP-Adresse an, die Sie verwenden möchten.\n",
      "\n",
      "### <a name=\"-nicname\"></a>-NicName\n",
      "Geben Sie den Namen der NIC an, die Sie verwenden möchten.\n",
      "\n",
      "### <a name=\"-ipaddress\"></a>-IP-Adresse\n",
      "Geben Sie die IP-Adresse an, die Sie verwenden möchten.\n",
      "\n",
      "### <a name=\"-nicname\"></a>-NicName\n",
      "Geben Sie den Namen der NIC an, die Sie verwenden möchten.\n",
      "\n",
      "### <a name=\"-ipaddress\"></a>-IP-Adresse\n",
      "Geben Sie die IP-Adresse an, die\n"
     ]
    }
   ],
   "source": [
    "# Generate a response from the model for a specified query using the 'create_model_response' function.\n",
    "# The query here is \"Will capital gains affect my tax bracket?\"\n",
    "# 'base_model' is the loaded language model and 'base_tokenizer' is the corresponding tokenizer.\n",
    "# The function will process the query, generate a response using the model, and return the result as a string.\n",
    "result = create_model_response(task_query=\"Will capital gains affect my tax bracket?\", inference_model=base_model, sequence_tokenizer=base_tokenizer)\n",
    "\n",
    "# Print the result to display the model-generated response to the query.\n",
    "print(result)\n"
   ]
  },
  {
   "cell_type": "markdown",
   "id": "a3ecd834-1f7f-4965-ab3e-2c9f812bd3b1",
   "metadata": {},
   "source": [
    "## 9. Function: create_contextual_prompt\n",
    "This function constructs a formatted prompt for a given task. It takes a dictionary containing key information about the task - specifically, an instruction, optional input context, and an expected output or response.\n",
    "\n",
    "### Parameters\n",
    "- `data_point (dict):` A dictionary with at least two keys: instruction and output, and an optional input key. These keys correspond to:\n",
    "- `instruction:` The task's instructions.\n",
    "- `input:` Optional additional context or information relevant to the task.\n",
    "- `output:` The expected response or result for the task.\n",
    "\n",
    "### Returns\n",
    "- `str:` A string that represents the complete, formatted prompt. This prompt is structured into sections labeled 'Instruction', 'Context' (if available), and 'Response'."
   ]
  },
  {
   "cell_type": "code",
   "execution_count": 10,
   "id": "9f8abb82-66ef-4384-b412-9043b86a4334",
   "metadata": {},
   "outputs": [],
   "source": [
    "def create_contextual_prompt(data_point):\n",
    "    \"\"\"\n",
    "    Generates a textual prompt incorporating instructions, optional context, and a response.\n",
    "\n",
    "    :param data_point: A dictionary containing instruction, optional input context, and output.\n",
    "    :return: A string representing a formatted and contextualized prompt.\n",
    "    \"\"\"\n",
    "    instruction = data_point[\"instruction\"]\n",
    "    input_context = data_point.get(\"input\")\n",
    "    response = data_point[\"output\"]\n",
    "\n",
    "    # Base prompt structure\n",
    "    text = 'This is a task instruction. Complete the task as described.\\n\\n'\n",
    "\n",
    "    # Adding instruction\n",
    "    text += f'### Instruction:\\n{instruction}\\n\\n'\n",
    "\n",
    "    # Conditionally adding input context if available\n",
    "    if input_context:\n",
    "        text += f'### Context:\\n{input_context}\\n\\n'\n",
    "\n",
    "    # Adding the response\n",
    "    text += f'### Response:\\n{response}'\n",
    "\n",
    "    return text\n",
    "\n",
    "# Applying the function to each data point and adding the resulting prompts as a new column\n",
    "text_column = [create_contextual_prompt(data_point) for data_point in data]\n",
    "data = data.add_column(\"prompt\", text_column)"
   ]
  },
  {
   "cell_type": "markdown",
   "id": "0db911cf-88e9-4b8b-892a-9512201a97d1",
   "metadata": {},
   "source": [
    "## 10: Dataset Shuffling and Tokenization\n",
    "This step involves two key processes for dataset preparation: first, the dataset is shuffled to eliminate any order-based biases, using a fixed seed for consistent shuffling across different runs. Following this, the dataset undergoes tokenization, where a tokenizer is applied to each data point's 'prompt' field in batches, ensuring efficient data processing suitable for machine learning model inputs."
   ]
  },
  {
   "cell_type": "code",
   "execution_count": 11,
   "id": "dec8749e-2236-4a3b-b40c-b504e2949505",
   "metadata": {},
   "outputs": [],
   "source": [
    "# Shuffle the dataset to ensure that the order of data points does not introduce any bias.\n",
    "# A fixed seed (1234 in this case) is used for reproducibility, ensuring the shuffle order remains consistent across runs.\n",
    "data = data.shuffle(seed=1234)\n",
    "\n",
    "# Apply the tokenizer to each data point in the dataset.\n",
    "# The 'map' function applies the given lambda function to each element of the dataset.\n",
    "# 'base_tokenizer(samples[\"prompt\"])' tokenizes the 'prompt' field of each sample in the dataset.\n",
    "# 'batched=True' indicates that the tokenization should be done in batches for efficiency.\n",
    "data = data.map(lambda samples: base_tokenizer(samples[\"prompt\"]), batched=True)"
   ]
  },
  {
   "cell_type": "markdown",
   "id": "b4f6f15f-a41f-4212-aa63-7b0ec646974a",
   "metadata": {},
   "source": [
    "## 11: Splitting the Dataset into Training and Testing Sets\n",
    "This step involves dividing the dataset into training and testing subsets. The `train_test_split` method is used, allocating 10% of the data for testing (`test_size=0.1`) and the remainder for training. The subsets are then separately extracted for their respective purposes, with `train_data` representing the training set and `test_data` the testing set."
   ]
  },
  {
   "cell_type": "code",
   "execution_count": 12,
   "id": "fc23fb0e-efc0-4952-8da6-615f8c935975",
   "metadata": {},
   "outputs": [],
   "source": [
    "# Split the dataset into training and testing sets.\n",
    "# The 'train_test_split' method divides the data, allocating 10% for testing and the rest for training.\n",
    "# The 'test_size=0.1' parameter specifies that 10% of the dataset should be used for the test set.\n",
    "data = data.train_test_split(test_size=0.1)\n",
    "\n",
    "# Extract the training data subset from the split.\n",
    "# The 'train' key accesses the portion of the dataset designated for training purposes.\n",
    "train_data = data[\"train\"]\n",
    "\n",
    "# Extract the testing data subset from the split.\n",
    "# The 'test' key accesses the portion of the dataset designated for testing purposes.\n",
    "test_data = data[\"test\"]"
   ]
  },
  {
   "cell_type": "code",
   "execution_count": 13,
   "id": "3e904f94-80ef-4130-bf9b-8e6699aa84b0",
   "metadata": {},
   "outputs": [
    {
     "name": "stdout",
     "output_type": "stream",
     "text": [
      "Dataset({\n",
      "    features: ['output', 'input', 'instruction', 'text', 'prompt', 'input_ids', 'attention_mask'],\n",
      "    num_rows: 62020\n",
      "})\n",
      "Dataset({\n",
      "    features: ['output', 'input', 'instruction', 'text', 'prompt', 'input_ids', 'attention_mask'],\n",
      "    num_rows: 6892\n",
      "})\n"
     ]
    }
   ],
   "source": [
    "print(train_data)\n",
    "print(test_data)"
   ]
  },
  {
   "cell_type": "markdown",
   "id": "995233b5-c469-49e5-9656-c05348332a8a",
   "metadata": {},
   "source": [
    "## 12: Configuring the Model for k-bit Training\n",
    "This step involves preparing the base model for `k-bit` training. It starts with enabling gradient checkpointing in the model, a technique that reduces memory usage by storing only some intermediate activations. This is beneficial for handling larger models or increasing batch sizes. The model is then passed through the `prepare_model_for_kbit_training` function, which likely configures it for training with reduced precision (k-bit). This configuration aims to improve efficiency in terms of memory usage and computational speed. "
   ]
  },
  {
   "cell_type": "code",
   "execution_count": 14,
   "id": "80b3bf0c-ae44-4d0c-abc4-f1670c7b5770",
   "metadata": {},
   "outputs": [
    {
     "name": "stdout",
     "output_type": "stream",
     "text": [
      "LlamaForCausalLM(\n",
      "  (model): LlamaModel(\n",
      "    (embed_tokens): Embedding(32000, 4096)\n",
      "    (layers): ModuleList(\n",
      "      (0-31): 32 x LlamaDecoderLayer(\n",
      "        (self_attn): LlamaAttention(\n",
      "          (q_proj): Linear4bit(in_features=4096, out_features=4096, bias=False)\n",
      "          (k_proj): Linear4bit(in_features=4096, out_features=4096, bias=False)\n",
      "          (v_proj): Linear4bit(in_features=4096, out_features=4096, bias=False)\n",
      "          (o_proj): Linear4bit(in_features=4096, out_features=4096, bias=False)\n",
      "          (rotary_emb): LlamaRotaryEmbedding()\n",
      "        )\n",
      "        (mlp): LlamaMLP(\n",
      "          (gate_proj): Linear4bit(in_features=4096, out_features=11008, bias=False)\n",
      "          (up_proj): Linear4bit(in_features=4096, out_features=11008, bias=False)\n",
      "          (down_proj): Linear4bit(in_features=11008, out_features=4096, bias=False)\n",
      "          (act_fn): SiLU()\n",
      "        )\n",
      "        (input_layernorm): LlamaRMSNorm()\n",
      "        (post_attention_layernorm): LlamaRMSNorm()\n",
      "      )\n",
      "    )\n",
      "    (norm): LlamaRMSNorm()\n",
      "  )\n",
      "  (lm_head): Linear(in_features=4096, out_features=32000, bias=False)\n",
      ")\n"
     ]
    }
   ],
   "source": [
    "# Import the function for preparing a model for k-bit training.\n",
    "from peft import prepare_model_for_kbit_training\n",
    "\n",
    "# Enable gradient checkpointing for the base model.\n",
    "# Gradient checkpointing is a technique to reduce memory usage during training by saving only a subset of the intermediate activations.\n",
    "# This allows for training larger models or using larger batch sizes.\n",
    "base_model.gradient_checkpointing_enable()\n",
    "\n",
    "# Prepare the base model for k-bit training.\n",
    "# The 'prepare_model_for_kbit_training' function presumably configures the model for training with reduced precision (k-bit),\n",
    "# which can lead to efficiency improvements in both memory usage and computational speed.\n",
    "base_model = prepare_model_for_kbit_training(base_model)\n",
    "\n",
    "# Print the model configuration.\n",
    "print(base_model)\n"
   ]
  },
  {
   "cell_type": "markdown",
   "id": "9e133dad-dcb4-472e-b76c-193314cf46ef",
   "metadata": {},
   "source": [
    "## 13: Identifying Linear Layers in a Model\n",
    "This code defines a function, `get_linear_layer_names`, which is designed to identify and list the names of linear layers in a given neural network model, based on a specified bit precision. It uses the `bitsandbytes` library to determine the class type of the linear layers (either 4-bit, 8-bit, or standard precision) and then iterates through all modules in the model to find instances of these layers. The function returns a list of unique names of the linear layers, excluding the 'lm_head' module typically associated with 16-bit precision models."
   ]
  },
  {
   "cell_type": "code",
   "execution_count": 15,
   "id": "058491cf-6da9-4a4a-9861-60f5d83a7149",
   "metadata": {},
   "outputs": [],
   "source": [
    "import bitsandbytes as bnb\n",
    "\n",
    "def get_linear_layer_names(model, bit_precision=4):\n",
    "    \"\"\"\n",
    "    Identifies and returns the names of linear layers in the model based on the specified bit precision.\n",
    "\n",
    "    :param model: The neural network model to be inspected.\n",
    "    :param bit_precision: The bit precision of the linear layers to find (default: 4).\n",
    "    :return: A list of names of the linear layers in the model.\n",
    "    \"\"\"\n",
    "\n",
    "    # Determine the class type for the linear layer based on bit precision.\n",
    "    linear_class = bnb.nn.Linear4bit if bit_precision == 4 else bnb.nn.Linear8bitLt if bit_precision == 8 else torch.nn.Linear\n",
    "\n",
    "    linear_layer_names = set()  # Set to store unique names of linear layers.\n",
    "\n",
    "    # Iterate through all modules in the model to find instances of the specified linear layer class.\n",
    "    for name, module in model.named_modules():\n",
    "        if isinstance(module, linear_class):\n",
    "            # Extract the base or last segment of the module name and add it to the set.\n",
    "            module_name_segment = name.split('.')[0 if name.count('.') == 0 else -1]\n",
    "            linear_layer_names.add(module_name_segment)\n",
    "\n",
    "    # Remove 'lm_head' from the set if present, typically applicable for 16-bit precision models.\n",
    "    linear_layer_names.discard('lm_head')\n",
    "\n",
    "    return list(linear_layer_names)\n"
   ]
  },
  {
   "cell_type": "code",
   "execution_count": 16,
   "id": "29616afa-b38e-4a8c-958f-9ead1c349fbf",
   "metadata": {},
   "outputs": [
    {
     "name": "stdout",
     "output_type": "stream",
     "text": [
      "['k_proj', 'v_proj', 'o_proj', 'up_proj', 'q_proj', 'down_proj', 'gate_proj']\n"
     ]
    }
   ],
   "source": [
    "modules = get_linear_layer_names(base_model)\n",
    "print(modules)"
   ]
  },
  {
   "cell_type": "markdown",
   "id": "ac8b6115-677d-4404-8450-7a2f41e7150f",
   "metadata": {},
   "source": [
    "## 14: Configuring and Applying LORA to the Base Model\n",
    "This step involves configuring and applying Low-Rank Adaptation (LORA) to the base model using the `peft` package. A `LoraConfig` object is created, specifying various parameters such as the rank of LORA layers (`r`), a scaling factor (`lora_alpha`), target modules for adaptation, dropout rate for regularization (`lora_dropout`), bias settings, and the task type (Causal Language Modeling). Then, using the `get_peft_model` function, these LORA adaptations are applied to the specified target modules in the base model, enhancing it for Parameter-Efficient Fine-Tuning (PEFT)."
   ]
  },
  {
   "cell_type": "code",
   "execution_count": 17,
   "id": "4c9e8ce3-d94d-4387-b634-6c1920cbfce6",
   "metadata": {},
   "outputs": [],
   "source": [
    "from peft import LoraConfig, get_peft_model  # Importing LoraConfig and get_peft_model from the 'peft' package.\n",
    "\n",
    "# Create a configuration object for LORA (Low-Rank Adaptation) layers.\n",
    "lora_config = LoraConfig(\n",
    "    r=8,  # 'r' is the rank of the LORA layers, affecting the amount of parameters added.\n",
    "    lora_alpha=32,  # 'lora_alpha' is a scaling factor for LORA's low-rank matrices.\n",
    "    target_modules=modules,  # 'target_modules' are the modules in the model to be adapted by LORA.\n",
    "    lora_dropout=0.05,  # 'lora_dropout' specifies the dropout rate in LORA layers for regularization.\n",
    "    bias=\"none\",  # 'bias' determines the usage of bias in LORA layers, here set to 'none'.\n",
    "    task_type=\"CAUSAL_LM\"  # 'task_type' specifies the type of task, here set to causal language modeling.\n",
    ")\n",
    "\n",
    "# Enhance the base model with PEFT (Parameter-Efficient Fine-Tuning) using the specified LORA configuration.\n",
    "# This process involves applying the LORA adaptations to the specified target modules in the model.\n",
    "base_model = get_peft_model(base_model, lora_config)\n"
   ]
  },
  {
   "cell_type": "code",
   "execution_count": 18,
   "id": "864e49ed-875f-4b25-a6d6-4480c4f40b22",
   "metadata": {},
   "outputs": [
    {
     "name": "stdout",
     "output_type": "stream",
     "text": [
      "Trainable: 19988480 | total: 6758404096 | Percentage: 0.2958%\n"
     ]
    }
   ],
   "source": [
    "# Calculate the number of trainable and total parameters in the base model.\n",
    "trainable, total = base_model.get_nb_trainable_parameters()\n",
    "\n",
    "# Print out the number of trainable parameters, total parameters, \n",
    "# and the percentage of parameters that are trainable.\n",
    "# This provides insight into the proportion of the model that can be updated during training.\n",
    "print(f\"Trainable: {trainable} | Total: {total} | Percentage: {trainable/total*100:.4f}%\")"
   ]
  },
  {
   "cell_type": "markdown",
   "id": "ca31f444-83ff-41e0-8b07-124b4d532268",
   "metadata": {},
   "source": [
    "## 15: Initializing the Supervised Fine-Tuning Trainer\n",
    "This step involves initializing the Supervised Fine-Tuning (SFT) Trainer for a transformer model. The process includes configuring the tokenizer, clearing the GPU cache for efficient memory usage, and setting up the trainer with specific parameters for model training and evaluation, PEFT configuration using LORA, training arguments like batch size, learning rate, and logging settings. The setup is tailored for language model fine-tuning."
   ]
  },
  {
   "cell_type": "code",
   "execution_count": 19,
   "id": "13a1ea29-e992-4173-80ee-f0b8f83a6e10",
   "metadata": {
    "tags": []
   },
   "outputs": [
    {
     "name": "stderr",
     "output_type": "stream",
     "text": [
      "/opt/app-root/lib64/python3.9/site-packages/trl/trainer/ppo_config.py:141: UserWarning: The `optimize_cuda_cache` arguement will be deprecated soon, please use `optimize_device_cache` instead.\n",
      "  warnings.warn(\n",
      "/opt/app-root/lib64/python3.9/site-packages/trl/trainer/sft_trainer.py:194: UserWarning: You didn't pass a `max_seq_length` argument to the SFTTrainer, this will default to 1024\n",
      "  warnings.warn(\n"
     ]
    },
    {
     "data": {
      "application/vnd.jupyter.widget-view+json": {
       "model_id": "8cf1183fe77f4ae4b8008f725d6c4ec3",
       "version_major": 2,
       "version_minor": 0
      },
      "text/plain": [
       "Map:   0%|          | 0/62020 [00:00<?, ? examples/s]"
      ]
     },
     "metadata": {},
     "output_type": "display_data"
    },
    {
     "data": {
      "application/vnd.jupyter.widget-view+json": {
       "model_id": "e83da3876c2d45e3a4be8998f2f5ffaf",
       "version_major": 2,
       "version_minor": 0
      },
      "text/plain": [
       "Map:   0%|          | 0/6892 [00:00<?, ? examples/s]"
      ]
     },
     "metadata": {},
     "output_type": "display_data"
    }
   ],
   "source": [
    "import transformers  # Importing the transformers library, which provides tools for working with transformer models.\n",
    "\n",
    "from trl import SFTTrainer  # Importing SFTTrainer from the trl (transformer reinforcement learning) package.\n",
    "\n",
    "# Setting the padding token of the tokenizer to be the same as its end-of-sentence token.\n",
    "base_tokenizer.pad_token = base_tokenizer.eos_token\n",
    "\n",
    "# Clearing the GPU cache to free up memory and avoid potential out-of-memory issues.\n",
    "torch.cuda.empty_cache()\n",
    "\n",
    "# Initializing the Supervised Fine-Tuning (SFT) Trainer.\n",
    "trainer = SFTTrainer(\n",
    "    model=base_model,  # The model to be fine-tuned.\n",
    "    train_dataset=train_data,  # The dataset for training.\n",
    "    eval_dataset=test_data,  # The dataset for evaluation.\n",
    "    dataset_text_field=\"prompt\",  # The field in the dataset that contains the text to be processed.\n",
    "    peft_config=lora_config,  # The PEFT (Parameter-Efficient Fine-Tuning) configuration, here using LORA.\n",
    "    args=transformers.TrainingArguments(  # Configuration for the training process.\n",
    "        per_device_train_batch_size=1,  # Batch size per device.\n",
    "        gradient_accumulation_steps=16,  # Number of steps to accumulate gradients before updating model weights.\n",
    "        warmup_steps=50,  # Absolute number of warmup steps for the learning rate scheduler.\n",
    "        max_steps=-1,  # Maximum number of training steps, -1 means unlimited.\n",
    "        learning_rate=1e-5,  # The learning rate for optimization.\n",
    "        logging_dir=\"./logs\",  # Directory where training logs will be stored.\n",
    "        logging_first_step=True,  # Log the first training step, useful for debugging.\n",
    "        logging_steps=20,  # Frequency of logging training information.\n",
    "        evaluation_strategy=\"steps\",  # Strategy to perform model evaluation.\n",
    "        optim=\"adamw_torch\",  # The optimizer to be used.\n",
    "        eval_steps=50,  # Number of steps before performing evaluation.\n",
    "        output_dir=\"/opt/app-root/src/data/v8-finance-3/outputs\",  # Directory to store output files.\n",
    "        load_best_model_at_end=True,  # Whether to load the best model at the end of training.\n",
    "    ),\n",
    "    data_collator=transformers.DataCollatorForLanguageModeling(base_tokenizer, mlm=False),  # Data collator for language modeling.\n",
    ")\n"
   ]
  },
  {
   "cell_type": "code",
   "execution_count": null,
   "id": "5cc80bdb-f837-4283-ad93-b28346a47c89",
   "metadata": {},
   "outputs": [],
   "source": [
    "# Disable caching in the model's configuration. \n",
    "# This is typically done during training to save memory, as caching activations is not necessary.\n",
    "# However, for inference, caching should be re-enabled for improved performance.\n",
    "base_model.config.use_cache = False\n",
    "\n",
    "# Start the training process using the SFTTrainer instance.\n",
    "# The function argument specifies the path to resume training from a specific checkpoint.\n",
    "# trainer.train(\"/opt/app-root/src/data/v8-finance-3/outputs/checkpoint-9000\")\n",
    "# Initial Training without checkpoint\n",
    "trainer.train()\n"
   ]
  },
  {
   "cell_type": "markdown",
   "id": "0721b55f-fcd2-4997-a7f8-a224d6158fc4",
   "metadata": {},
   "source": [
    "## 16: Publishing Model and Tokenizer to Hugging Face Model Hub\n",
    "This step involves uploading the fine-tuned model and its associated tokenizer to the Hugging Face Model Hub. The model and tokenizer are pushed to the hub under the repository name `\"Llama-2-7b-hf_finetuned_finance_jupyter\"`, making them accessible online for public use and download."
   ]
  },
  {
   "cell_type": "code",
   "execution_count": 21,
   "id": "01f6772e-ade0-472e-b76e-744f43d0787f",
   "metadata": {},
   "outputs": [
    {
     "data": {
      "application/vnd.jupyter.widget-view+json": {
       "model_id": "25d7b07445f944f493eb85a8b6fc9483",
       "version_major": 2,
       "version_minor": 0
      },
      "text/plain": [
       "adapter_model.safetensors:   0%|          | 0.00/80.0M [00:00<?, ?B/s]"
      ]
     },
     "metadata": {},
     "output_type": "display_data"
    },
    {
     "data": {
      "text/plain": [
       "CommitInfo(commit_url='https://huggingface.co/bkpandey/Llama-2-7b-hf_finetuned_finance_jupyter/commit/fcf9718d2be2b9f56d69b9cc63294b4b124ef2c8', commit_message='Upload tokenizer', commit_description='', oid='fcf9718d2be2b9f56d69b9cc63294b4b124ef2c8', pr_url=None, pr_revision=None, pr_num=None)"
      ]
     },
     "execution_count": 21,
     "metadata": {},
     "output_type": "execute_result"
    }
   ],
   "source": [
    "# Push the fine-tuned model to the Hugging Face Model Hub.\n",
    "# This makes the model available online for others to use and download.\n",
    "# \"Llama-2-7b-hf_finetuned_finance_jupyter_v7\" is the repository name on the Model Hub.\n",
    "base_model.push_to_hub(\"Llama-2-7b-hf_finetuned_finance_jupyter\")\n",
    "\n",
    "# Similarly, push the tokenizer associated with the fine-tuned model to the Hugging Face Model Hub.\n",
    "# This ensures that users who download the model also have access to the correct tokenizer.\n",
    "# The repository name is kept the same for consistency and easy association with the model.\n",
    "base_tokenizer.push_to_hub(\"Llama-2-7b-hf_finetuned_finance_jupyter\")\n"
   ]
  },
  {
   "cell_type": "markdown",
   "id": "e74925f9-3f7e-4e79-a232-e5eb1b02fd0f",
   "metadata": {},
   "source": [
    "## 17: Loading and Utilizing a PEFT Enhanced Language Model\n",
    "The code involves loading a fine-tuned language model enhanced with Parameter-Efficient Fine-Tuning (PEFT) and its tokenizer from the Hugging Face Model Hub, using a specified identifier. The PEFT-enhanced model is loaded with settings for efficiency, including 4-bit loading and automatic device placement. After loading, the model and tokenizer are used to generate a response to a sample query, showcasing the practical application of the loaded model."
   ]
  },
  {
   "cell_type": "code",
   "execution_count": 22,
   "id": "a66ef37c-1b3e-4f7d-b3f3-734816a3a613",
   "metadata": {},
   "outputs": [
    {
     "data": {
      "application/vnd.jupyter.widget-view+json": {
       "model_id": "e3d63a9ef86349728abfeb68abed4be7",
       "version_major": 2,
       "version_minor": 0
      },
      "text/plain": [
       "adapter_config.json:   0%|          | 0.00/568 [00:00<?, ?B/s]"
      ]
     },
     "metadata": {},
     "output_type": "display_data"
    },
    {
     "data": {
      "application/vnd.jupyter.widget-view+json": {
       "model_id": "6c499781328344aeaad69699341ae092",
       "version_major": 2,
       "version_minor": 0
      },
      "text/plain": [
       "Loading checkpoint shards:   0%|          | 0/2 [00:00<?, ?it/s]"
      ]
     },
     "metadata": {},
     "output_type": "display_data"
    },
    {
     "data": {
      "application/vnd.jupyter.widget-view+json": {
       "model_id": "1629ba3953a9481d93dc02a5eae7c226",
       "version_major": 2,
       "version_minor": 0
      },
      "text/plain": [
       "adapter_model.safetensors:   0%|          | 0.00/80.0M [00:00<?, ?B/s]"
      ]
     },
     "metadata": {},
     "output_type": "display_data"
    }
   ],
   "source": [
    "import torch\n",
    "from peft import PeftModel, PeftConfig  # Import PEFT (Parameter-Efficient Fine-Tuning) related classes.\n",
    "from transformers import AutoModelForCausalLM, AutoTokenizer  # Importing necessary classes from transformers.\n",
    "\n",
    "# Identifier for the fine-tuned PEFT model on the Hugging Face Model Hub.\n",
    "peft_model_id = \"bkpandey/Llama-2-7b-hf_finetuned_finance_jupyter\"\n",
    "\n",
    "# Load the PEFT configuration from the Hugging Face Model Hub using the model identifier.\n",
    "config = PeftConfig.from_pretrained(peft_model_id)\n",
    "\n",
    "# Load the base causal language model specified in the PEFT config, enabling 4-bit loading for efficiency.\n",
    "# 'device_map=\"auto\"' automatically places the model on the most appropriate device (CPU/GPU).\n",
    "model = AutoModelForCausalLM.from_pretrained(config.base_model_name_or_path, return_dict=True, load_in_4bit=True, device_map='auto')\n",
    "\n",
    "# Load the tokenizer corresponding to the base model.\n",
    "tokenizer = AutoTokenizer.from_pretrained(config.base_model_name_or_path)\n",
    "\n",
    "# Load the PEFT model from the pretrained model and config, enabling the use of PEFT enhancements.\n",
    "model = PeftModel.from_pretrained(model, peft_model_id)\n"
   ]
  },
  {
   "cell_type": "code",
   "execution_count": 23,
   "id": "756ad9d2-6313-4ee1-87c4-7d5e73aa0b18",
   "metadata": {},
   "outputs": [
    {
     "name": "stderr",
     "output_type": "stream",
     "text": [
      "/opt/app-root/lib64/python3.9/site-packages/bitsandbytes/nn/modules.py:226: UserWarning: Input type into Linear4bit is torch.float16, but bnb_4bit_compute_type=torch.float32 (default). This will lead to slow inference or training speed.\n",
      "  warnings.warn(f'Input type into Linear4bit is torch.float16, but bnb_4bit_compute_type=torch.float32 (default). This will lead to slow inference or training speed.')\n"
     ]
    },
    {
     "name": "stdout",
     "output_type": "stream",
     "text": [
      "\n",
      "    Here is a task that requires an informative response. Please complete the task based on the provided instruction.\n",
      "\n",
      "    ### Instruction:\n",
      "    Will capital gains affect my tax bracket?\n",
      "\n",
      "    ### Completion:\n",
      "    \n",
      "    Yes, capital gains will affect your tax bracket. Capital gains are considered income and are taxed at the same rate as other forms of income. This means that any capital gains you make will be added to your total income for the year and you will be taxed accordingly.\n",
      "\n",
      "    In addition, if you make a lot of capital gains in a single year, you may be pushed into a higher tax bracket than you would have been in otherwise. For example, if you make $100,000 in capital gains in a single year, you may be pushed into the next tax bracket, which could increase your tax bill significantly.\n",
      "\n",
      "    Therefore, it is important to keep track of your capital gains and losses and plan accordingly when it comes to taxes.\n",
      "\n",
      "    ### Note:\n",
      "    Capital gains are the profits you make when you sell a capital asset, such as stocks, bonds, and property. Capital losses are the losses you incur when you sell a capital asset for less than you paid for it. Capital gains and losses are added to your total income for the year and are taxed at the same rate as other forms of income.\n"
     ]
    }
   ],
   "source": [
    "result = create_model_response(task_query=\"Will capital gains affect my tax bracket?\", inference_model=model, sequence_tokenizer=tokenizer)\n",
    "print(result)"
   ]
  },
  {
   "cell_type": "code",
   "execution_count": 24,
   "id": "3013553a-b5fe-4f48-831d-1de0afd26079",
   "metadata": {},
   "outputs": [
    {
     "data": {
      "image/png": "[encoded data removed]",
      "text/plain": [
       "<Figure size 1200x600 with 2 Axes>"
      ]
     },
     "metadata": {},
     "output_type": "display_data"
    }
   ],
   "source": [
    "import json\n",
    "import matplotlib.pyplot as plt\n",
    "\n",
    "# Let's load the JSON data from the file\n",
    "file_path =  '/opt/app-root/src/data/v8-finance-3/outputs/checkpoint-9000/trainer_state.json'\n",
    "\n",
    "\n",
    "# Load the trainer state data\n",
    "with open(file_path, 'r') as file:\n",
    "    trainer_state = json.load(file)\n",
    "\n",
    "# Extract the metrics, ensuring we only take steps that have both a loss and learning rate\n",
    "steps_with_loss = [log_entry['step'] for log_entry in trainer_state['log_history'] if 'loss' in log_entry]\n",
    "losses = [log_entry['loss'] for log_entry in trainer_state['log_history'] if 'loss' in log_entry]\n",
    "\n",
    "steps_with_lr = [log_entry['step'] for log_entry in trainer_state['log_history'] if 'learning_rate' in log_entry]\n",
    "learning_rates = [log_entry['learning_rate'] for log_entry in trainer_state['log_history'] if 'learning_rate' in log_entry]\n",
    "\n",
    "# Plotting\n",
    "plt.figure(figsize=(12, 6))\n",
    "\n",
    "# Plot for Loss vs. Steps with loss\n",
    "plt.subplot(1, 2, 1)\n",
    "plt.plot(steps_with_loss, losses, label='Loss', color='red')\n",
    "plt.xlabel('Steps')\n",
    "plt.ylabel('Loss')\n",
    "plt.title('Loss vs. Steps')\n",
    "plt.legend()\n",
    "\n",
    "# Plot for Learning Rate vs. Steps with learning rate\n",
    "plt.subplot(1, 2, 2)\n",
    "plt.plot(steps_with_lr, learning_rates, label='Learning Rate', color='blue')\n",
    "plt.xlabel('Steps')\n",
    "plt.ylabel('Learning Rate')\n",
    "plt.title('Learning Rate vs. Steps')\n",
    "plt.legend()\n",
    "\n",
    "plt.tight_layout()\n",
    "plt.show()\n"
   ]
  },
  {
   "cell_type": "code",
   "execution_count": 26,
   "id": "a8b7d3bb-80a7-4d48-b329-06af994f887e",
   "metadata": {},
   "outputs": [],
   "source": [
    "import pandas as pd\n",
    "import json\n",
    "\n",
    "# Path to the JSON file\n",
    "file_path = '/opt/app-root/src/data/v8-finance-3/outputs/checkpoint-9000/trainer_state.json'\n",
    "\n",
    "# Read the file content\n",
    "with open(file_path, 'r') as file:\n",
    "    trainer_state_data = json.load(file)\n",
    "\n",
    "# Normalize the nested 'log_history' data into a flat table\n",
    "df = pd.json_normalize(trainer_state_data, record_path=['log_history'])\n",
    "\n",
    "# Filter out the required columns\n",
    "filtered_df = df[['epoch', 'learning_rate', 'loss', 'step']].dropna()\n",
    "\n",
    "# Save the filtered data as a CSV file\n",
    "csv_file_path = '/opt/app-root/src/data/training_data.csv'\n",
    "filtered_df.to_csv(csv_file_path, index=False)"
   ]
  },
  {
   "cell_type": "code",
   "execution_count": null,
   "id": "232ea303-37c7-409f-9361-f73a29713329",
   "metadata": {},
   "outputs": [],
   "source": []
  }
 ],
 "metadata": {
  "kernelspec": {
   "display_name": "Python 3.9",
   "language": "python",
   "name": "python3"
  },
  "language_info": {
   "codemirror_mode": {
    "name": "ipython",
    "version": 3
   },
   "file_extension": ".py",
   "mimetype": "text/x-python",
   "name": "python",
   "nbconvert_exporter": "python",
   "pygments_lexer": "ipython3",
   "version": "3.9.16"
  }
 },
 "nbformat": 4,
 "nbformat_minor": 5
}
